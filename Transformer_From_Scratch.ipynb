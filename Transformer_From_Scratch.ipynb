{
  "cells": [
    {
      "cell_type": "markdown",
      "source": [
        "#Wiki Transformer from Scratch"
      ],
      "metadata": {
        "id": "axO1Xv2Bz7yh"
      }
    },
    {
      "cell_type": "markdown",
      "metadata": {
        "id": "Bt54PLNXcQfd"
      },
      "source": [
        "This project is inspired by Andrej Karpathy's work at: https://www.youtube.com/watch?v=kCc8FmEb1nY\n",
        "\n",
        "We will be building a decoder-only Transformer from scratch, and training it on a corpus of Wikipedia data, to try and generate Wikipedia-style text. \n",
        "\n",
        "We will be training on: Wikitext - V2. Wikitext - V2 is a 2M word subset of the Wikipedia corpus. \n",
        "The goal for the project is to: \n",
        "\n",
        "Plan: \n",
        "- define a decoder transformer architecture\n",
        "- train on the WikiText dataset \n",
        "- Generate infinite Wikipedia-like text \n",
        "\n"
      ]
    },
    {
      "cell_type": "markdown",
      "source": [
        "##Imports \n"
      ],
      "metadata": {
        "id": "1s8KhINRwKRh"
      }
    },
    {
      "cell_type": "code",
      "source": [
        "import torch \n",
        "import pandas as pd"
      ],
      "metadata": {
        "id": "0iICF7alwV-i"
      },
      "execution_count": 121,
      "outputs": []
    },
    {
      "cell_type": "code",
      "source": [
        "#device agnostic code\n",
        "device = 'cuda' if torch.cuda.is_available() else 'cpu'\n"
      ],
      "metadata": {
        "id": "NJGvrfWqwMiF"
      },
      "execution_count": 120,
      "outputs": []
    },
    {
      "cell_type": "markdown",
      "source": [
        "## Glance at data \n",
        "*Take a peek at data to see if it's what we want"
      ],
      "metadata": {
        "id": "LIeT6bkFGu3A"
      }
    },
    {
      "cell_type": "code",
      "source": [
        "pip install datasets"
      ],
      "metadata": {
        "colab": {
          "base_uri": "https://localhost:8080/"
        },
        "id": "8WGeHlOpGuRG",
        "outputId": "474133ca-6d40-473d-f893-deb80f4fa1fd"
      },
      "execution_count": 94,
      "outputs": [
        {
          "output_type": "stream",
          "name": "stdout",
          "text": [
            "Looking in indexes: https://pypi.org/simple, https://us-python.pkg.dev/colab-wheels/public/simple/\n",
            "Requirement already satisfied: datasets in /usr/local/lib/python3.8/dist-packages (2.8.0)\n",
            "Requirement already satisfied: responses<0.19 in /usr/local/lib/python3.8/dist-packages (from datasets) (0.18.0)\n",
            "Requirement already satisfied: fsspec[http]>=2021.11.1 in /usr/local/lib/python3.8/dist-packages (from datasets) (2022.11.0)\n",
            "Requirement already satisfied: pandas in /usr/local/lib/python3.8/dist-packages (from datasets) (1.3.5)\n",
            "Requirement already satisfied: xxhash in /usr/local/lib/python3.8/dist-packages (from datasets) (3.2.0)\n",
            "Requirement already satisfied: multiprocess in /usr/local/lib/python3.8/dist-packages (from datasets) (0.70.14)\n",
            "Requirement already satisfied: tqdm>=4.62.1 in /usr/local/lib/python3.8/dist-packages (from datasets) (4.64.1)\n",
            "Requirement already satisfied: packaging in /usr/local/lib/python3.8/dist-packages (from datasets) (21.3)\n",
            "Requirement already satisfied: numpy>=1.17 in /usr/local/lib/python3.8/dist-packages (from datasets) (1.21.6)\n",
            "Requirement already satisfied: dill<0.3.7 in /usr/local/lib/python3.8/dist-packages (from datasets) (0.3.6)\n",
            "Requirement already satisfied: pyarrow>=6.0.0 in /usr/local/lib/python3.8/dist-packages (from datasets) (9.0.0)\n",
            "Requirement already satisfied: pyyaml>=5.1 in /usr/local/lib/python3.8/dist-packages (from datasets) (6.0)\n",
            "Requirement already satisfied: huggingface-hub<1.0.0,>=0.2.0 in /usr/local/lib/python3.8/dist-packages (from datasets) (0.12.0)\n",
            "Requirement already satisfied: aiohttp in /usr/local/lib/python3.8/dist-packages (from datasets) (3.8.3)\n",
            "Requirement already satisfied: requests>=2.19.0 in /usr/local/lib/python3.8/dist-packages (from datasets) (2.25.1)\n",
            "Requirement already satisfied: attrs>=17.3.0 in /usr/local/lib/python3.8/dist-packages (from aiohttp->datasets) (22.2.0)\n",
            "Requirement already satisfied: frozenlist>=1.1.1 in /usr/local/lib/python3.8/dist-packages (from aiohttp->datasets) (1.3.3)\n",
            "Requirement already satisfied: aiosignal>=1.1.2 in /usr/local/lib/python3.8/dist-packages (from aiohttp->datasets) (1.3.1)\n",
            "Requirement already satisfied: charset-normalizer<3.0,>=2.0 in /usr/local/lib/python3.8/dist-packages (from aiohttp->datasets) (2.1.1)\n",
            "Requirement already satisfied: yarl<2.0,>=1.0 in /usr/local/lib/python3.8/dist-packages (from aiohttp->datasets) (1.8.2)\n",
            "Requirement already satisfied: async-timeout<5.0,>=4.0.0a3 in /usr/local/lib/python3.8/dist-packages (from aiohttp->datasets) (4.0.2)\n",
            "Requirement already satisfied: multidict<7.0,>=4.5 in /usr/local/lib/python3.8/dist-packages (from aiohttp->datasets) (6.0.4)\n",
            "Requirement already satisfied: filelock in /usr/local/lib/python3.8/dist-packages (from huggingface-hub<1.0.0,>=0.2.0->datasets) (3.9.0)\n",
            "Requirement already satisfied: typing-extensions>=3.7.4.3 in /usr/local/lib/python3.8/dist-packages (from huggingface-hub<1.0.0,>=0.2.0->datasets) (4.4.0)\n",
            "Requirement already satisfied: pyparsing!=3.0.5,>=2.0.2 in /usr/local/lib/python3.8/dist-packages (from packaging->datasets) (3.0.9)\n",
            "Requirement already satisfied: idna<3,>=2.5 in /usr/local/lib/python3.8/dist-packages (from requests>=2.19.0->datasets) (2.10)\n",
            "Requirement already satisfied: certifi>=2017.4.17 in /usr/local/lib/python3.8/dist-packages (from requests>=2.19.0->datasets) (2022.12.7)\n",
            "Requirement already satisfied: chardet<5,>=3.0.2 in /usr/local/lib/python3.8/dist-packages (from requests>=2.19.0->datasets) (4.0.0)\n",
            "Requirement already satisfied: urllib3<1.27,>=1.21.1 in /usr/local/lib/python3.8/dist-packages (from requests>=2.19.0->datasets) (1.26.14)\n",
            "Requirement already satisfied: python-dateutil>=2.7.3 in /usr/local/lib/python3.8/dist-packages (from pandas->datasets) (2.8.2)\n",
            "Requirement already satisfied: pytz>=2017.3 in /usr/local/lib/python3.8/dist-packages (from pandas->datasets) (2022.7)\n",
            "Requirement already satisfied: six>=1.5 in /usr/local/lib/python3.8/dist-packages (from python-dateutil>=2.7.3->pandas->datasets) (1.15.0)\n"
          ]
        }
      ]
    },
    {
      "cell_type": "code",
      "source": [
        "!python -c \"from datasets import load_dataset; print(load_dataset('squad', split='train')[0])\"\n"
      ],
      "metadata": {
        "colab": {
          "base_uri": "https://localhost:8080/"
        },
        "id": "HjOiZVLcIW24",
        "outputId": "c6a6cd2b-201e-4962-9a18-4495880c4083"
      },
      "execution_count": 95,
      "outputs": [
        {
          "output_type": "stream",
          "name": "stdout",
          "text": [
            "Found cached dataset squad (/root/.cache/huggingface/datasets/squad/plain_text/1.0.0/d6ec3ceb99ca480ce37cdd35555d6cb2511d223b9150cce08a837ef62ffea453)\n",
            "{'id': '5733be284776f41900661182', 'title': 'University_of_Notre_Dame', 'context': 'Architecturally, the school has a Catholic character. Atop the Main Building\\'s gold dome is a golden statue of the Virgin Mary. Immediately in front of the Main Building and facing it, is a copper statue of Christ with arms upraised with the legend \"Venite Ad Me Omnes\". Next to the Main Building is the Basilica of the Sacred Heart. Immediately behind the basilica is the Grotto, a Marian place of prayer and reflection. It is a replica of the grotto at Lourdes, France where the Virgin Mary reputedly appeared to Saint Bernadette Soubirous in 1858. At the end of the main drive (and in a direct line that connects through 3 statues and the Gold Dome), is a simple, modern stone statue of Mary.', 'question': 'To whom did the Virgin Mary allegedly appear in 1858 in Lourdes France?', 'answers': {'text': ['Saint Bernadette Soubirous'], 'answer_start': [515]}}\n"
          ]
        }
      ]
    },
    {
      "cell_type": "code",
      "source": [
        "from datasets import load_dataset_builder\n",
        "ds_builder = load_dataset_builder(\"wikitext\", 'wikitext-2-v1')"
      ],
      "metadata": {
        "id": "y-y8n8lIIm9M"
      },
      "execution_count": 96,
      "outputs": []
    },
    {
      "cell_type": "code",
      "source": [
        "#inspect dataset description \n",
        "ds_builder.info.description"
      ],
      "metadata": {
        "colab": {
          "base_uri": "https://localhost:8080/",
          "height": 53
        },
        "id": "xzDbQk6HIqFR",
        "outputId": "1c27a875-eb51-476e-9c04-ef93f05ae624"
      },
      "execution_count": 97,
      "outputs": [
        {
          "output_type": "execute_result",
          "data": {
            "text/plain": [
              "' The WikiText language modeling dataset is a collection of over 100 million tokens extracted from the set of verified\\n Good and Featured articles on Wikipedia. The dataset is available under the Creative Commons Attribution-ShareAlike\\n License.\\n'"
            ],
            "application/vnd.google.colaboratory.intrinsic+json": {
              "type": "string"
            }
          },
          "metadata": {},
          "execution_count": 97
        }
      ]
    },
    {
      "cell_type": "code",
      "source": [
        "#inspect dataset features \n",
        "ds_builder.info.features"
      ],
      "metadata": {
        "colab": {
          "base_uri": "https://localhost:8080/"
        },
        "id": "_H47eor2JMFe",
        "outputId": "21530b0a-6292-40cd-ac0f-f6eb0f13ec45"
      },
      "execution_count": 98,
      "outputs": [
        {
          "output_type": "execute_result",
          "data": {
            "text/plain": [
              "{'text': Value(dtype='string', id=None)}"
            ]
          },
          "metadata": {},
          "execution_count": 98
        }
      ]
    },
    {
      "cell_type": "markdown",
      "source": [
        "We can see that the wiki dataset is simply text with data type \"string\". No label is needed because we are not doing classification."
      ],
      "metadata": {
        "id": "sPuG_0_8JRBs"
      }
    },
    {
      "cell_type": "markdown",
      "source": [
        "##Load Dataset \n"
      ],
      "metadata": {
        "id": "9o38AfGrJbV7"
      }
    },
    {
      "cell_type": "markdown",
      "source": [
        "See what splits the dataset has"
      ],
      "metadata": {
        "id": "amjqjHVdKZ_h"
      }
    },
    {
      "cell_type": "code",
      "source": [
        "from datasets import get_dataset_split_names\n",
        "get_dataset_split_names(\"wikitext\", 'wikitext-2-v1')"
      ],
      "metadata": {
        "colab": {
          "base_uri": "https://localhost:8080/"
        },
        "id": "tW4T0KN5J5nt",
        "outputId": "9c46032e-c431-4822-d60b-dae578db2dd7"
      },
      "execution_count": 99,
      "outputs": [
        {
          "output_type": "execute_result",
          "data": {
            "text/plain": [
              "['test', 'train', 'validation']"
            ]
          },
          "metadata": {},
          "execution_count": 99
        }
      ]
    },
    {
      "cell_type": "markdown",
      "source": [
        "We see there is train, test and validation sets"
      ],
      "metadata": {
        "id": "W0v6CyFOKCLL"
      }
    },
    {
      "cell_type": "markdown",
      "source": [
        "Download the training data "
      ],
      "metadata": {
        "id": "13_frfkdKcgk"
      }
    },
    {
      "cell_type": "code",
      "source": [
        "from datasets import load_dataset\n",
        "dataset = load_dataset(\"wikitext\", 'wikitext-2-v1', split=\"train\")\n",
        "\n"
      ],
      "metadata": {
        "colab": {
          "base_uri": "https://localhost:8080/"
        },
        "id": "dXVz44UGJZWm",
        "outputId": "85aa5b04-e406-40fa-a9ba-5224eb202db1"
      },
      "execution_count": 100,
      "outputs": [
        {
          "output_type": "stream",
          "name": "stderr",
          "text": [
            "WARNING:datasets.builder:Found cached dataset wikitext (/root/.cache/huggingface/datasets/wikitext/wikitext-2-v1/1.0.0/a241db52902eaf2c6aa732210bead40c090019a499ceb13bcbfa3f8ab646a126)\n"
          ]
        }
      ]
    },
    {
      "cell_type": "markdown",
      "source": [
        "Check out the dataset object "
      ],
      "metadata": {
        "id": "5wJ08LFnKhOJ"
      }
    },
    {
      "cell_type": "code",
      "source": [
        "dataset"
      ],
      "metadata": {
        "colab": {
          "base_uri": "https://localhost:8080/"
        },
        "id": "xHkTBqBLKNQx",
        "outputId": "5b153512-a322-4e3f-90d8-2a120dc45af9"
      },
      "execution_count": 101,
      "outputs": [
        {
          "output_type": "execute_result",
          "data": {
            "text/plain": [
              "Dataset({\n",
              "    features: ['text'],\n",
              "    num_rows: 36718\n",
              "})"
            ]
          },
          "metadata": {},
          "execution_count": 101
        }
      ]
    },
    {
      "cell_type": "markdown",
      "source": [
        "There are 36718 rows of text. Let's explore more by indexing into the dataset"
      ],
      "metadata": {
        "id": "K6Bo2hkUKsAL"
      }
    },
    {
      "cell_type": "code",
      "source": [
        "dataset[:100]"
      ],
      "metadata": {
        "colab": {
          "base_uri": "https://localhost:8080/"
        },
        "id": "HS0EQKfbKjFl",
        "outputId": "38f5c616-3fad-49db-faab-1ebc0d32b298"
      },
      "execution_count": 102,
      "outputs": [
        {
          "output_type": "execute_result",
          "data": {
            "text/plain": [
              "{'text': ['',\n",
              "  ' = Valkyria Chronicles III = \\n',\n",
              "  '',\n",
              "  ' Senjō no Valkyria 3 : <unk> Chronicles ( Japanese : 戦場のヴァルキュリア3 , lit . Valkyria of the Battlefield 3 ) , commonly referred to as Valkyria Chronicles III outside Japan , is a tactical role @-@ playing video game developed by Sega and Media.Vision for the PlayStation Portable . Released in January 2011 in Japan , it is the third game in the Valkyria series . <unk> the same fusion of tactical and real @-@ time gameplay as its predecessors , the story runs parallel to the first game and follows the \" Nameless \" , a penal military unit serving the nation of Gallia during the Second Europan War who perform secret black operations and are pitted against the Imperial unit \" <unk> Raven \" . \\n',\n",
              "  \" The game began development in 2010 , carrying over a large portion of the work done on Valkyria Chronicles II . While it retained the standard features of the series , it also underwent multiple adjustments , such as making the game more <unk> for series newcomers . Character designer <unk> Honjou and composer Hitoshi Sakimoto both returned from previous entries , along with Valkyria Chronicles II director Takeshi Ozawa . A large team of writers handled the script . The game 's opening theme was sung by May 'n . \\n\",\n",
              "  \" It met with positive sales in Japan , and was praised by both Japanese and western critics . After release , it received downloadable content , along with an expanded edition in November of that year . It was also adapted into manga and an original video animation series . Due to low sales of Valkyria Chronicles II , Valkyria Chronicles III was not localized , but a fan translation compatible with the game 's expanded edition was released in 2014 . Media.Vision would return to the franchise with the development of Valkyria : Azure Revolution for the PlayStation 4 . \\n\",\n",
              "  '',\n",
              "  ' = = Gameplay = = \\n',\n",
              "  '',\n",
              "  \" As with previous <unk> Chronicles games , Valkyria Chronicles III is a tactical role @-@ playing game where players take control of a military unit and take part in missions against enemy forces . Stories are told through comic book @-@ like panels with animated character portraits , with characters speaking partially through voiced speech bubbles and partially through <unk> text . The player progresses through a series of linear missions , gradually unlocked as maps that can be freely <unk> through and replayed as they are unlocked . The route to each story location on the map varies depending on an individual player 's approach : when one option is selected , the other is sealed off to the player . Outside missions , the player characters rest in a camp , where units can be customized and character growth occurs . Alongside the main story missions are character @-@ specific sub missions relating to different squad members . After the game 's completion , additional episodes are unlocked , some of them having a higher difficulty than those found in the rest of the game . There are also love simulation elements related to the game 's two main <unk> , although they take a very minor role . \\n\",\n",
              "  ' The game \\'s battle system , the <unk> system , is carried over directly from <unk> Chronicles . During missions , players select each unit using a top @-@ down perspective of the battlefield map : once a character is selected , the player moves the character around the battlefield in third @-@ person . A character can only act once per @-@ turn , but characters can be granted multiple turns at the expense of other characters \\' turns . Each character has a field and distance of movement limited by their Action <unk> . Up to nine characters can be assigned to a single mission . During gameplay , characters will call out if something happens to them , such as their health points ( HP ) getting low or being knocked out by enemy attacks . Each character has specific \" Potentials \" , skills unique to each character . They are divided into \" Personal Potential \" , which are innate skills that remain unaltered unless otherwise dictated by the story and can either help or impede a character , and \" Battle Potentials \" , which are grown throughout the game and always grant <unk> to a character . To learn Battle Potentials , each character has a unique \" Masters Table \" , a grid @-@ based skill table that can be used to acquire and link different skills . Characters also have Special <unk> that grant them temporary <unk> on the battlefield : Kurt can activate \" Direct Command \" and move around the battlefield without <unk> his Action Point gauge , the character <unk> can shift into her \" Valkyria Form \" and become <unk> , while Imca can target multiple enemy units with her heavy weapon . \\n',\n",
              "  \" Troops are divided into five classes : Scouts , <unk> , Engineers , <unk> and Armored Soldier . <unk> can switch classes by changing their assigned weapon . Changing class does not greatly affect the stats gained while in a previous class . With victory in battle , experience points are awarded to the squad , which are distributed into five different attributes shared by the entire squad , a feature differing from early games ' method of distributing to different unit types . \\n\",\n",
              "  '',\n",
              "  ' = = Plot = = \\n',\n",
              "  '',\n",
              "  ' The game takes place during the Second Europan War . Gallian Army Squad 422 , also known as \" The Nameless \" , are a penal military unit composed of criminals , foreign <unk> , and military offenders whose real names are erased from the records and <unk> officially referred to by numbers . <unk> by the Gallian military to perform the most dangerous missions that the Regular Army and Militia will not do , they are nevertheless up to the task , exemplified by their motto , <unk> <unk> , meaning \" Always Ready . \" The three main characters are <unk> Kurt Irving , an army officer falsely accused of treason who wishes to redeem himself ; Ace <unk> Imca , a female Darcsen heavy weapons specialist who seeks revenge against the Valkyria who destroyed her home ; and <unk> Riela <unk> , a seemingly <unk> young woman who is unknowingly a descendant of the Valkyria . Together with their fellow squad members , these three are tasked to fight against a mysterious Imperial unit known as Calamity Raven , consisting of mostly Darcsen soldiers . \\n',\n",
              "  \" As the Nameless officially do not exist , the upper echelons of the Gallian Army exploit the concept of plausible <unk> in order to send them on missions that would otherwise make Gallia lose face in the war . While at times this works to their advantage , such as a successful incursion into Imperial territory , other orders cause certain members of the 422nd great distress . One such member , <unk> , becomes so enraged that he abandons his post and defects into the ranks of Calamity Raven , attached to the ideal of Darcsen independence proposed by their leader , Dahau . At the same time , elements within Gallian Army Command move to erase the Nameless in order to protect their own interests . <unk> by both allies and enemies , and combined with the presence of a traitor within their ranks , the 422nd desperately move to keep themselves alive while at the same time fight to help the Gallian war effort . This continues until the Nameless 's commanding officer , Ramsey Crowe , who had been kept under house arrest , is escorted to the capital city of <unk> in order to present evidence <unk> the weary soldiers and expose the real traitor , the Gallian General that had accused Kurt of Treason . \\n\",\n",
              "  \" <unk> due to these events , and partly due to the major losses in manpower Gallia suffers towards the end of the war with the Empire , the Nameless are offered a formal position as a squad in the Gallian Army rather than serve as an anonymous shadow force . This is short @-@ lived , however , as following Maximilian 's defeat , Dahau and Calamity Raven move to activate an ancient <unk> super weapon within the Empire , kept secret by their benefactor . Without the support of Maximilian or the chance to prove themselves in the war with Gallia , it is Dahau 's last <unk> card in creating a new Darcsen nation . As an armed Gallian force invading the Empire just following the two nations ' cease @-@ fire would certainly wreck their newfound peace , Kurt decides to once again make his squad the Nameless , asking Crowe to list himself and all under his command as killed @-@ in @-@ action . Now owing allegiance to none other than themselves , the 422nd confronts Dahau and destroys the <unk> weapon . Each member then goes their separate ways in order to begin their lives <unk> . \\n\",\n",
              "  '',\n",
              "  ' = = Development = = \\n',\n",
              "  '',\n",
              "  ' Concept work for Valkyria Chronicles III began after development finished on Valkyria Chronicles II in early 2010 , with full development beginning shortly after this . The director of Valkyria Chronicles II , Takeshi Ozawa , returned to that role for Valkyria Chronicles III . Development work took approximately one year . After the release of Valkyria Chronicles II , the staff took a look at both the popular response for the game and what they wanted to do next for the series . Like its predecessor , Valkyria Chronicles III was developed for PlayStation Portable : this was due to the team wanting to refine the mechanics created for Valkyria Chronicles II , and they had not come up with the \" revolutionary \" idea that would warrant a new entry for the PlayStation 3 . Speaking in an interview , it was stated that the development team considered Valkyria Chronicles III to be the series \\' first true sequel : while Valkyria Chronicles II had required a large amount of trial and error during development due to the platform move , the third game gave them a chance to improve upon the best parts of Valkyria Chronicles II due to being on the same platform . In addition to Sega staff from the previous games , development work was also handled by <unk> The original scenario was written <unk> <unk> , while the script was written by Hiroyuki <unk> , <unk> <unk> , <unk> <unk> , <unk> <unk> and <unk> <unk> . Its story was darker and more somber than that of its predecessor . \\n',\n",
              "  \" The majority of material created for previous games , such as the <unk> system and the design of maps , was carried over . Alongside this , improvements were made to the game 's graphics and some elements were expanded , such as map layouts , mission structure , and the number of playable units per mission . A part of this upgrade involved creating unique <unk> models for each character 's body . In order to achieve this , the cooperative elements incorporated into the second game were removed , as they took up a large portion of memory space needed for the improvements . They also adjusted the difficulty settings and ease of play so they could appeal to new players while retaining the essential components of the series ' gameplay . The newer systems were decided upon early in development . The character designs were done by <unk> Honjou , who had worked on the previous Valkyria Chronicles games . When creating the Nameless Squad , Honjou was faced with the same problem he had had during the first game : the military uniforms essentially destroyed character individuality , despite him needing to create unique characters the player could identify while maintaining a sense of reality within the Valkyria Chronicles world . The main color of the Nameless was black . As with the previous Valkyria games , Valkyria Chronicles III used the <unk> graphics engine . The anime opening was produced by Production I.G. \\n\",\n",
              "  '',\n",
              "  ' = = = Music = = = \\n',\n",
              "  '',\n",
              "  ' The music was composed by Hitoshi Sakimoto , who had also worked on the previous Valkyria Chronicles games . When he originally heard about the project , he thought it would be a light tone similar to other Valkyria Chronicles games , but found the themes much darker than expected . An early theme he designed around his original vision of the project was rejected . He <unk> the main theme about seven times through the music production due to this need to <unk> the game . The main theme was initially recorded using orchestra , then Sakimoto removed elements such as the guitar and bass , then adjusted the theme using a synthesizer before <unk> segments such as the guitar piece on their own before incorporating them into the theme . The rejected main theme was used as a hopeful tune that played during the game \\'s ending . The battle themes were designed around the concept of a \" modern battle \" divorced from a fantasy scenario by using modern musical instruments , constructed to create a sense of <unk> . While Sakimoto was most used to working with synthesized music , he felt that he needed to incorporate live instruments such as orchestra and guitar . The guitar was played by <unk> <unk> , who also arranged several of the later tracks . The game \\'s opening theme song , \" If You Wish for ... \" ( <unk> , <unk> Kimi <unk> <unk> <unk> ) , was sung by Japanese singer May \\'n . Its theme was the reason soldiers fought , in particular their wish to protect what was precious to them rather than a sense of responsibility or duty . Its lyrics were written by <unk> <unk> , who had worked on May \\'n on previous singles . \\n',\n",
              "  '',\n",
              "  ' = = = Release = = = \\n',\n",
              "  '',\n",
              "  \" In September 2010 , a teaser website was revealed by Sega , hinting at a new Valkyria Chronicles game . In its September issue , Famitsu listed that Senjō no Valkyria 3 would be arriving on the PlayStation Portable . Its first public appearance was at the 2010 Tokyo Game Show ( TGS ) , where a demo was made available for journalists and attendees . During the publicity , story details were kept <unk> so as not to <unk> too much for potential players , along with some of its content still being in flux at the time of its reveal . To promote the game and detail the story leading into the game 's events , an episodic Flash visual novel written by <unk> began release in January 2011 . The game was released January 27 , 2011 . During an interview , the development team said that the game had the capacity for downloadable content ( DLC ) , but that no plans were finalized . Multiple DLC maps , featuring additional missions and <unk> characters , were released between February and April 2011 . An expanded edition of the game , Valkyria Chronicles III Extra Edition , released on November 23 , 2011 . <unk> and sold at a lower price than the original , Extra Edition game with seven additional episodes : three new , three chosen by staff from the game 's DLC , and one made available as a pre @-@ order bonus . People who also owned the original game could transfer their save data between versions . \\n\",\n",
              "  \" Unlike its two predecessors , Valkyria Chronicles III was not released in the west . According to Sega , this was due to poor sales of Valkyria Chronicles II and the general unpopularity of the PSP in the west . An unofficial fan translation patch began development in February 2012 : players with a copy of Valkyria Chronicles III could download and apply the patch , which translated the game 's text into English . <unk> with the Extra Edition , the patch was released in January 2014 . \\n\",\n",
              "  '',\n",
              "  ' = = Reception = = \\n',\n",
              "  '',\n",
              "  ' On its day of release in Japan , Valkyria Chronicles III topped both platform @-@ exclusive and multi @-@ platform sales charts . By early February , the game sold 102 @,@ <unk> units , coming in second overall to The Last Story for the Wii . By the end of the year , the game had sold just over 152 @,@ 500 units . \\n',\n",
              "  ' Famitsu enjoyed the story , and were particularly pleased with the improvements to gameplay . Japanese gaming site Game Watch <unk> , despite negatively noting its pacing and elements recycled from previous games , was generally positive about its story and characters , and found its gameplay entertaining despite off @-@ putting difficulty spikes . <unk> writer <unk> <unk> , in a \" Play Test \" article based on the game \\'s <unk> demo , felt that Valkyria Chronicles III provided a \" profound feeling of closure \" for the Valkyria Chronicles series . He praised its gameplay despite annoying limitations to aspects such as special abilities , and positively noted its shift in story to a tone similar to the first game . \\n',\n",
              "  \" PlayStation Official Magazine - UK praised the story 's <unk> of Gallia 's moral standing , art style , and most points about its gameplay , positively noting the latter for both its continued quality and the tweaks to balance and content . Its one major criticism were multiple difficulty spikes , something that had affected the previous games . Heath Hindman of gaming website PlayStation <unk> praised the addition of non @-@ linear elements and improvements or removal of mechanics from Valkyria Chronicles II in addition to praising the returning gameplay style of previous games . He also positively noted the story 's serious tone . Points criticized in the review were recycled elements , awkward cutscenes that seemed to include all characters in a scene for no good reason , pacing issues , and occasional problems with the game 's AI . \\n\",\n",
              "  \" In a preview of the TGS demo , Ryan Geddes of IGN was left excited as to where the game would go after completing the demo , along with enjoying the improved visuals over Valkyria Chronicles II . Kotaku 's Richard <unk> was highly positive about the game , citing is story as a return to form after Valkyria Chronicles II and its gameplay being the best in the series . His main criticisms were its length and gameplay repetition , along with expressing regret that it would not be localized . \\n\",\n",
              "  '',\n",
              "  ' = = Legacy = = \\n',\n",
              "  '',\n",
              "  ' Kurt and Riela were featured in the Nintendo 3DS crossover Project X Zone , representing the Valkyria series . Media.Vision would return to the series to develop Valkyria : Azure Revolution , with Ozawa returning as director . Azure Revolution is a role @-@ playing video game for the PlayStation 4 that forms the beginning of a new series within the Valkyria franchise . \\n',\n",
              "  '',\n",
              "  ' = = = Adaptations = = = \\n',\n",
              "  '',\n",
              "  ' Valkyria Chronicles 3 was adapted into a two @-@ episode original video animation series in the same year of its release . <unk> Senjō no Valkyria 3 : <unk> <unk> no <unk> ( <unk> <unk> , lit . Valkyria of the Battlefield 3 : The <unk> Taken for <unk> \\'s Sake ) , it was originally released through PlayStation Network and <unk> between April and May 2011 . The initially @-@ planned release and availability period needed to be extended due to a stoppage to <unk> during the early summer of that year . It later released for DVD on June 29 and August 31 , 2011 , with separate \" Black \" and \" Blue \" editions being available for purchase . The anime is set during the latter half of Valkyria Chronicles III , detailing a mission by the Nameless against their Imperial rivals Calamity Raven . The anime was first announced in November 2010 . It was developed by A @-@ 1 Pictures , produced by Shinji <unk> , directed by <unk> <unk> , and written by Hiroshi <unk> . Sakimoto \\'s music for the game was used in the anime . \\n',\n",
              "  ' The anime \\'s title was inspired by the principle purpose of the Nameless : to suffer in battle for the goals of others . A <unk> attached to the project during development was \" The Road to <unk> \" , which referenced the <unk> Tank Museum in Moscow . The game \\'s main theme was how the characters regained their sense of self when stripped of their names and identities , along with general themes focused on war and its consequences . While making the anime , the production team were told by Sega to make it as realistic as possible , with the consequence that the team did extensive research into aspects such as what happened when vehicles like tanks were overturned or damaged . Due to it being along the same timeline as the original game and its television anime adaptation , the cast of Valkyria Chronicles could make appearances , which pleased the team . The opening theme , \" <unk> ( Light ) <unk> \" ( <unk> @-@ <unk> ) , was sung by Japanese singer <unk> . The ending theme , \" <unk> the Flowers of Light Will Bloom \" ( <unk> , <unk> <unk> <unk> no <unk> ) , was sung by <unk> <unk> . Both songs \\' lyrics were written by their respective artists . \\n',\n",
              "  \" Two manga adaptations were produced , following each of the game 's main female protagonists Imca and Riela . They were Senjō no Valkyria 3 : <unk> <unk> <unk> no <unk> ( 戦場のヴァルキュリア3 <unk> , lit . Valkyria of the Battlefield 3 : The Flower of the Nameless Oath ) , illustrated by <unk> <unk> and eventually released in two volumes after being serialized in Dengeki <unk> between 2011 and 2012 ; and Senjō no Valkyria 3 : <unk> <unk> no <unk> <unk> ( 戦場のヴァルキュリア3 <unk> , lit . Valkyria of the Battlefield 3 <unk> <unk> of the Crimson Fate ) , illustrated by <unk> <unk> and eventually released in a single volume by Kadokawa Shoten in 2012 . \\n\",\n",
              "  '',\n",
              "  '',\n",
              "  ' = Tower Building of the Little Rock Arsenal = \\n',\n",
              "  '',\n",
              "  \" The Tower Building of the Little Rock Arsenal , also known as U.S. Arsenal Building , is a building located in MacArthur Park in downtown Little Rock , Arkansas . Built in 1840 , it was part of Little Rock 's first military installation . Since its decommissioning , The Tower Building has housed two museums . It was home to the Arkansas Museum of Natural History and Antiquities from 1942 to 1997 and the MacArthur Museum of Arkansas Military History since 2001 . It has also been the headquarters of the Little Rock Æsthetic Club since 1894 . \\n\",\n",
              "  ' The building receives its name from its distinct octagonal tower . Besides being the last remaining structure of the original Little Rock Arsenal and one of the oldest buildings in central Arkansas , it was also the birthplace of General Douglas MacArthur , who became the supreme commander of US forces in the South Pacific during World War II . It was also the starting place of the Camden Expedition . In 2011 it was named as one of the top 10 attractions in the state of Arkansas by <unk> \\n',\n",
              "  '',\n",
              "  ' = = Construction = = \\n',\n",
              "  '',\n",
              "  ' The arsenal was constructed at the request of Governor James <unk> Conway in response to the perceived dangers of frontier life and fears of the many Native Americans who were passing through the state on their way to the newly established Oklahoma Territory . Thirty @-@ six acres were appropriated on the outskirts of Little Rock by Major Robert B. Lee of the U.S. Army . The land had been previously used as a racetrack by the local jockey club . John <unk> Walker , a builder for the Federal Government , supervised the construction . Originally $ 14 @,@ 000 was allocated for the construction of the arsenal , but proved inadequate . The budget was later increased to $ 30 @,@ 000 . Work began on the Tower Building in 1840 , and it was the first permanent structure of the arsenal to be built . Being originally constructed to store ammunition , the building was designed with 3 @-@ foot @-@ thick ( 0 @.@ 91 m ) exterior walls . The original plans called for it to be built of stone , however , masonry was used instead . The Arkansas Gazette referred to the structure as \" A splendid specimen of masonry \" . \\n',\n",
              "  '',\n",
              "  ' = = Civil War = = \\n',\n",
              "  '',\n",
              "  ' For several years the arsenal , which was owned by the federal government , served as a simple arms depot and was staffed with only a handful of soldiers . But in November 1860 , with the American Civil War on the horizon , a company of the Second United States Artillery , consisting of sixty @-@ five men , was transferred to Little Rock under the command of Captain James Totten . On January 15 , 1861 , the state legislature decided to hold a referendum to determine if a state convention should be held to consider the issue of <unk> and to elect delegates to such a convention . It was planned for February 18 ; however , events at the arsenal , would not wait . On January 28 , then Governor Henry Massey Rector informed Captain Totten that he and his soldiers would be \" permitted to remain in the possession of the Federal officers until the State , by authority of the people , shall have determined to <unk> their connection with the General Government , \" Totten responded to this by telling the Governor that his orders came from the United States Government and began a desperate but ultimately futile dispatch of letters and <unk> asking for reinforcements , although rumors were widely spread that they were already coming . The first telegraph wire to span between Little Rock and Memphis had recently been completed . Local attorney John M Harrel was asked to compose the first telegraph dispatched from Arkansas \\'s capital . In his message , Harrel reported unconfirmed rumors that more federal troops had been sent to reinforce the Little Rock Arsenal . \\n',\n",
              "  ' The United States troops at the outposts of the western frontier of the state and in the Indian nation have all been recalled from winter quarters to reinforce the garrison at Fort Smith . The garrison at Fort Smith had been previously transferred to the United States Arsenal in this city ( Little Rock ) . The arsenal is one of the richest <unk> of military stores in the United States and is supposed to be the ultimate destination of the <unk> [ sic ] ordered from the frontier . \\n',\n",
              "  ' <unk> M Harrel <unk> , January 31 , 1861 \\n',\n",
              "  ' The item was intended simply as a piece of news , but telegraph lines quickly spread the news throughout the state , <unk> procession sentiment . The rumor was interpreted by some <unk> as a call from the governor to assemble to help expel the federal troops from the arsenal . By February 5 , six militia units , consisting of 1 @,@ 000 men , with a guarantee that the numbers could be increased to 5 @,@ 000 if the situations deemed it necessary , had assembled in Little Rock . Governor Rector vehemently denied ordering the troops to assemble or giving any order at all in connection with the troops . Faced with the fact that the military had assembled believing they were following his orders and the consensus of the citizens of Little Rock against any armed conflict between the civilian army and federal troops , Governor Rector was forced to take control of the situation . On February 6 , he sent a formal demand for surrender of the arsenal to Captain Totten , \\n',\n",
              "  ' This movement is prompted by the feeling that <unk> the citizens of this State that in the present emergency the arms and munitions of war in the Arsenal should be under the control of the State authorities , in order to their security . This movement , although not authorized by me , has assumed such an aspect that it becomes my duty , as the executive of this <unk> , to <unk> my official authority to prevent a collision between the people of the State and the Federal troops under your command . I therefore demand in the name of the State the delivery of the possession of the Arsenal and munitions of war under your charge to the State authorities , to be held subject to the action of the convention to be held on the 4th of March next . \\n',\n",
              "  ' Perhaps because Abraham Lincoln had not yet been inaugurated as President , Captain Totten received no instructions from his superiors and was forced to withdraw his troops . He agreed to surrender the arsenal as long as the governor agreed to three provisions : \\n',\n",
              "  ' The governor would take possession of the arsenal in the name of the United States . \\n',\n",
              "  ' The soldiers would be allowed safe passage in any direction carrying any personal and public property besides munitions of war . \\n',\n",
              "  ' The soldiers would be allowed to march away as men leaving under orders , not as conquered and surrendering soldiers . \\n',\n",
              "  \" On the morning of February 8 , 1861 , Rector and Totten signed an agreement placing the arsenal in the hands of state officials . That afternoon , the citizen militia marched to the arsenal with Governor Rector at its head . All of the federal troops had left at this point , except Totten who had stayed behind to listen to the Governor 's speech and to hand the arsenal over in person . \\n\",\n",
              "  ' The Little Rock Arsenal was classified in 1860 as an \" arsenal of deposit , \" meaning that it was simply a warehouse for the storage of weapons intended for the use of the state militia in times of crisis . Thus there were no substantial operations for ordnance fabrication or repairs , nor for the manufacture of cartridges at the time the Arsenal fell into State hands . Most of these operations were started from scratch through the efforts of the Arkansas Military Board . \\n',\n",
              "  \" Inside the Little Rock Arsenal after its seizure in February , 1861 , the Confederates <unk> some 10 @,@ 247 weapons , 250 @,@ 000 musket cartridges , and 520 @,@ 000 percussion caps , as well as the four bronze cannon of Totten 's battery . Long arms in the Arsenal 's inventory consisted of : \\n\",\n",
              "  ' M1822 .69 cal ( flintlock ) 5 @,@ 625 \\n',\n",
              "  ' M1822 .69 cal ( percussion @-@ converted ) 53 \\n',\n",
              "  ' <unk> .69 cal smoothbore ( percussion ) 357 \\n',\n",
              "  ' <unk> <unk> cal rifle @-@ <unk> 900 \\n',\n",
              "  ' <unk> common rifles 125 \\n',\n",
              "  ' <unk> rifle ( \" Mississippi Rifle \" ) 54 \\n',\n",
              "  ' <unk> <unk> 2 \\n',\n",
              "  \" Hall 's <unk> 267 \\n\",\n",
              "  \" Hall 's rifles ( flintlock ) 2 @,@ 864 \\n\",\n",
              "  ' Total 10 @,@ 247 \\n',\n",
              "  ' Of this number , approximately <unk> weapons were <unk> , or ready @-@ for @-@ issue . Note there were only 1 @,@ 364 percussion weapons available . <unk> of the weapons found in the Arsenal is somewhat sketchy , but from various records it can be surmised that the 5th , 6th , 7th , and 8th Arkansas Infantry Regiments , mustered in June , 1861 , were issued <unk> / M1822 .69 caliber <unk> . The 9th and 10th Arkansas , four companies of Kelly \\'s 9th Arkansas Battalion , and the 3rd Arkansas Cavalry Regiment were issued flintlock Hall \\'s Rifles . The units comprising the infantry force of Van Dorn \\'s Army of the West were the 1st and 2nd Arkansas Mounted Rifles were also armed with M1822 <unk> from the Little Rock Arsenal . By the time the 11th and 12th Arkansas Infantry Regiments mustered in at Little Rock , the supply of arms had been almost completely exhausted , and only old \" <unk> \" weapons were left . \\n',\n",
              "  ' Most of the equipment , arms , and machinery at the Little Rock Arsenal was removed to east of the Mississippi River by order of <unk> Gen. Earl Van Dorn in April and May 1862 , and accountability for it is lost at that point . By all appearances , the equipment was sent down the river to Napoleon , Arkansas , and from there to Jackson Mississippi , where it was probably destroyed during the <unk> campaign in the early summer of 1863 . \\n',\n",
              "  ' Major General Thomas C. Hindman , sent to command the district of Arkansas in May , 1862 , found the state nearly destitute of military material . Hindman established another armory at Arkadelphia , and revived the Little Rock Arsenal as a collection point and depot for <unk> and ammunition manufacture for small arms . Hindman recorded : \\n',\n",
              "  ' \" Machinery was made for manufacturing percussion caps and small arms , and both were turned out in small quantity , but of excellent quality . Lead mines were opened and worked , and a chemical laboratory was established and successfully operated in aid of the Ordnance Department and in the manufacture of <unk> , <unk> oil , spirits of <unk> , the various <unk> of iron , and other valuable medicines . Most of these works were located at or near Arkadelphia on the <unk> River , 75 miles south from Little Rock . The tools , machinery , and the material were gathered <unk> or else made by hand labor . Nothing of this sort had been before attempted on Government account in Arkansas to my knowledge , except for the manufacture of small arms , the machinery for which was taken away by General Van Dorn and there was neither capital nor sufficient enterprise among the citizens to engage in such undertakings <unk> A further supply , along with lead and caps , was procured from the citizens of Little Rock and vicinity by donation , purchases , and <unk> . \\n',\n",
              "  ' This ammunition , and that which I brought with me , was rapidly prepared for use at the Laboratory established at the Little Rock Arsenal for that purpose . As illustrating as the <unk> <unk> of material in the country , the fact may be stated that it was found necessary to use public documents of the State Library for cartridge paper . <unk> were employed or conscripted , tools purchased or impressed , and the repair of the damaged guns I brought with me and about an equal number found at Little Rock commenced at once . But , after inspecting the work and observing the spirit of the men I decided that a garrison 500 strong could hold out against Fitch and that I would lead the remainder - about 1500 - to <unk> \\'l <unk> as soon as shotguns and rifles could be obtained from Little Rock instead of <unk> and lances , with which most of them were armed . Two days <unk> before the change could be effected . \" \\n',\n",
              "  ' The Confederate ordnance establishment at Little Rock was reactivated in August , 1862 . Looking around for a suitable person to head this activity , General Hindman turned to the Confederate Navy and borrowed Lieutenant John W. Dunnington . Lt. Dunnington was the commander of the gunboat <unk> <unk> , which had been brought to Little Rock in hopes of converting it to an ironclad . Dunnington was selected to head the ordnance works at Little Rock , and although he continued to draw his pay from the Confederate Navy Department , he was placed in charge of all Confederate ordnance activities ( which included artillery functions ) there with the rank of lieutenant colonel . \\n',\n",
              "  ' Lt. Col. Dunnington \\'s \" <unk> for the month of August , 1862 , at Little Rock Arsenal , <unk> , \" are found in Vol . 149 , Chapter IV of the \" <unk> Rebel Ordnance Records , \" and are most enlightening as to the scope of Confederate ordnance activities at Little Rock during this crucial time . According to Dunnington , \" When I assumed command at this Post , all material had been removed to Arkadelphia . There were no persons employed . No shops were open for repair of arms or for <unk> ammunition . Material , tools , etc . , had to be procured as well as the employment of laborers . Work commenced the last part of the month . \" \\n',\n",
              "  \" The military force at Little Rock under Dunnington 's command consisted of four officers : himself , Major John B. <unk> , Captain <unk> Green , and 2nd Lt. <unk> Murphy . In addition to these , he had 20 enlisted men and a civilian force composed of a <unk> , 2 clerks , 3 <unk> for repairing small arms , a <unk> , 26 laborers in the ammunition laboratory , and a carpenter for making packing boxes . \\n\",\n",
              "  ' During the month of August , 1862 , the following work was performed : \" <unk> : one pair of musket bullet moulds ; 10 @,@ 000 buck & ball shot cartridges ; repaired : 750 <unk> , shotguns , and rifles ; received and repaired : ordnance stores and <unk> ; performed : guard , office , and police duties ; inspected : <unk> at Camden and Arkadelphia . \" \\n',\n",
              "  ' Lt. Col. Dunnington continued to build up his works at Little Rock until November 1862 , when Captain Sanford C. Faulkner ( composer of The Arkansas Traveler ) was placed in charge of the Arsenal . Dunnington presumably returned to his naval duties and the <unk> . \\n',\n",
              "  ' A \" Summary of the Work <unk> for November , 1862 , Little Rock Arsenal \" shows : <unk> : \\n',\n",
              "  ' 75 @,@ 000 buck & ball cartridges - percussion \\n',\n",
              "  ' 14 @,@ 000 buck & ball cartridges - flint \\n',\n",
              "  ' 275 paper <unk> \\n',\n",
              "  ' 117 rounds , 6 @-@ pounder <unk> shot \\n',\n",
              "  ' 130 rounds , 6 @-@ pounder ball shot \\n']}"
            ]
          },
          "metadata": {},
          "execution_count": 102
        }
      ]
    },
    {
      "cell_type": "code",
      "source": [],
      "metadata": {
        "id": "D7pVLk5gMDDC"
      },
      "execution_count": 102,
      "outputs": []
    },
    {
      "cell_type": "markdown",
      "source": [
        "## Pre - Pre Processing\n"
      ],
      "metadata": {
        "id": "nNDsWv2zLWjC"
      }
    },
    {
      "cell_type": "markdown",
      "source": [
        "Now we want to pre process the text. Since we are going to be buliding a character-level transformer, to keep it simple, we will transform our Datasets object into a single string. "
      ],
      "metadata": {
        "id": "NMzvDnT4LUsD"
      }
    },
    {
      "cell_type": "code",
      "source": [
        "#It is easier for me to convert to pandas df\n",
        "import pandas as pd\n",
        "df_pandas = pd.DataFrame(dataset)"
      ],
      "metadata": {
        "id": "lK1gDd76PbRl"
      },
      "execution_count": 103,
      "outputs": []
    },
    {
      "cell_type": "code",
      "source": [
        "df_pandas.head()"
      ],
      "metadata": {
        "colab": {
          "base_uri": "https://localhost:8080/",
          "height": 206
        },
        "id": "bJtWOfSwPkp9",
        "outputId": "8e89135b-9667-465e-ddc9-a9c1f0bf2b77"
      },
      "execution_count": 104,
      "outputs": [
        {
          "output_type": "execute_result",
          "data": {
            "text/plain": [
              "                                                text\n",
              "0                                                   \n",
              "1                     = Valkyria Chronicles III = \\n\n",
              "2                                                   \n",
              "3   Senjō no Valkyria 3 : <unk> Chronicles ( Japa...\n",
              "4   The game began development in 2010 , carrying..."
            ],
            "text/html": [
              "\n",
              "  <div id=\"df-f8855cbc-057b-4338-ab7f-fa21a8d2919c\">\n",
              "    <div class=\"colab-df-container\">\n",
              "      <div>\n",
              "<style scoped>\n",
              "    .dataframe tbody tr th:only-of-type {\n",
              "        vertical-align: middle;\n",
              "    }\n",
              "\n",
              "    .dataframe tbody tr th {\n",
              "        vertical-align: top;\n",
              "    }\n",
              "\n",
              "    .dataframe thead th {\n",
              "        text-align: right;\n",
              "    }\n",
              "</style>\n",
              "<table border=\"1\" class=\"dataframe\">\n",
              "  <thead>\n",
              "    <tr style=\"text-align: right;\">\n",
              "      <th></th>\n",
              "      <th>text</th>\n",
              "    </tr>\n",
              "  </thead>\n",
              "  <tbody>\n",
              "    <tr>\n",
              "      <th>0</th>\n",
              "      <td></td>\n",
              "    </tr>\n",
              "    <tr>\n",
              "      <th>1</th>\n",
              "      <td>= Valkyria Chronicles III = \\n</td>\n",
              "    </tr>\n",
              "    <tr>\n",
              "      <th>2</th>\n",
              "      <td></td>\n",
              "    </tr>\n",
              "    <tr>\n",
              "      <th>3</th>\n",
              "      <td>Senjō no Valkyria 3 : &lt;unk&gt; Chronicles ( Japa...</td>\n",
              "    </tr>\n",
              "    <tr>\n",
              "      <th>4</th>\n",
              "      <td>The game began development in 2010 , carrying...</td>\n",
              "    </tr>\n",
              "  </tbody>\n",
              "</table>\n",
              "</div>\n",
              "      <button class=\"colab-df-convert\" onclick=\"convertToInteractive('df-f8855cbc-057b-4338-ab7f-fa21a8d2919c')\"\n",
              "              title=\"Convert this dataframe to an interactive table.\"\n",
              "              style=\"display:none;\">\n",
              "        \n",
              "  <svg xmlns=\"http://www.w3.org/2000/svg\" height=\"24px\"viewBox=\"0 0 24 24\"\n",
              "       width=\"24px\">\n",
              "    <path d=\"M0 0h24v24H0V0z\" fill=\"none\"/>\n",
              "    <path d=\"M18.56 5.44l.94 2.06.94-2.06 2.06-.94-2.06-.94-.94-2.06-.94 2.06-2.06.94zm-11 1L8.5 8.5l.94-2.06 2.06-.94-2.06-.94L8.5 2.5l-.94 2.06-2.06.94zm10 10l.94 2.06.94-2.06 2.06-.94-2.06-.94-.94-2.06-.94 2.06-2.06.94z\"/><path d=\"M17.41 7.96l-1.37-1.37c-.4-.4-.92-.59-1.43-.59-.52 0-1.04.2-1.43.59L10.3 9.45l-7.72 7.72c-.78.78-.78 2.05 0 2.83L4 21.41c.39.39.9.59 1.41.59.51 0 1.02-.2 1.41-.59l7.78-7.78 2.81-2.81c.8-.78.8-2.07 0-2.86zM5.41 20L4 18.59l7.72-7.72 1.47 1.35L5.41 20z\"/>\n",
              "  </svg>\n",
              "      </button>\n",
              "      \n",
              "  <style>\n",
              "    .colab-df-container {\n",
              "      display:flex;\n",
              "      flex-wrap:wrap;\n",
              "      gap: 12px;\n",
              "    }\n",
              "\n",
              "    .colab-df-convert {\n",
              "      background-color: #E8F0FE;\n",
              "      border: none;\n",
              "      border-radius: 50%;\n",
              "      cursor: pointer;\n",
              "      display: none;\n",
              "      fill: #1967D2;\n",
              "      height: 32px;\n",
              "      padding: 0 0 0 0;\n",
              "      width: 32px;\n",
              "    }\n",
              "\n",
              "    .colab-df-convert:hover {\n",
              "      background-color: #E2EBFA;\n",
              "      box-shadow: 0px 1px 2px rgba(60, 64, 67, 0.3), 0px 1px 3px 1px rgba(60, 64, 67, 0.15);\n",
              "      fill: #174EA6;\n",
              "    }\n",
              "\n",
              "    [theme=dark] .colab-df-convert {\n",
              "      background-color: #3B4455;\n",
              "      fill: #D2E3FC;\n",
              "    }\n",
              "\n",
              "    [theme=dark] .colab-df-convert:hover {\n",
              "      background-color: #434B5C;\n",
              "      box-shadow: 0px 1px 3px 1px rgba(0, 0, 0, 0.15);\n",
              "      filter: drop-shadow(0px 1px 2px rgba(0, 0, 0, 0.3));\n",
              "      fill: #FFFFFF;\n",
              "    }\n",
              "  </style>\n",
              "\n",
              "      <script>\n",
              "        const buttonEl =\n",
              "          document.querySelector('#df-f8855cbc-057b-4338-ab7f-fa21a8d2919c button.colab-df-convert');\n",
              "        buttonEl.style.display =\n",
              "          google.colab.kernel.accessAllowed ? 'block' : 'none';\n",
              "\n",
              "        async function convertToInteractive(key) {\n",
              "          const element = document.querySelector('#df-f8855cbc-057b-4338-ab7f-fa21a8d2919c');\n",
              "          const dataTable =\n",
              "            await google.colab.kernel.invokeFunction('convertToInteractive',\n",
              "                                                     [key], {});\n",
              "          if (!dataTable) return;\n",
              "\n",
              "          const docLinkHtml = 'Like what you see? Visit the ' +\n",
              "            '<a target=\"_blank\" href=https://colab.research.google.com/notebooks/data_table.ipynb>data table notebook</a>'\n",
              "            + ' to learn more about interactive tables.';\n",
              "          element.innerHTML = '';\n",
              "          dataTable['output_type'] = 'display_data';\n",
              "          await google.colab.output.renderOutput(dataTable, element);\n",
              "          const docLink = document.createElement('div');\n",
              "          docLink.innerHTML = docLinkHtml;\n",
              "          element.appendChild(docLink);\n",
              "        }\n",
              "      </script>\n",
              "    </div>\n",
              "  </div>\n",
              "  "
            ]
          },
          "metadata": {},
          "execution_count": 104
        }
      ]
    },
    {
      "cell_type": "code",
      "source": [
        "#Now flatten all of the 'text' columns into a single, super long string\n",
        "text = ' '.join(df_pandas['text'].tolist())"
      ],
      "metadata": {
        "id": "gRXy6SIEKkN3"
      },
      "execution_count": 105,
      "outputs": []
    },
    {
      "cell_type": "code",
      "source": [
        "#Check out the first 1000 characters \n",
        "print(text[1000:2000])"
      ],
      "metadata": {
        "colab": {
          "base_uri": "https://localhost:8080/"
        },
        "id": "TSRGy0H3Ps7_",
        "outputId": "16ed37b7-5f55-45db-9229-64c3795639bb"
      },
      "execution_count": 106,
      "outputs": [
        {
          "output_type": "stream",
          "name": "stdout",
          "text": [
            "acter designer <unk> Honjou and composer Hitoshi Sakimoto both returned from previous entries , along with Valkyria Chronicles II director Takeshi Ozawa . A large team of writers handled the script . The game 's opening theme was sung by May 'n . \n",
            "  It met with positive sales in Japan , and was praised by both Japanese and western critics . After release , it received downloadable content , along with an expanded edition in November of that year . It was also adapted into manga and an original video animation series . Due to low sales of Valkyria Chronicles II , Valkyria Chronicles III was not localized , but a fan translation compatible with the game 's expanded edition was released in 2014 . Media.Vision would return to the franchise with the development of Valkyria : Azure Revolution for the PlayStation 4 . \n",
            "   = = Gameplay = = \n",
            "   As with previous <unk> Chronicles games , Valkyria Chronicles III is a tactical role @-@ playing game where players take control of a military unit and t\n"
          ]
        }
      ]
    },
    {
      "cell_type": "code",
      "source": [
        "#determine all the unique characters that are present in the text\n",
        "unique_chars = sorted(list(set(text)))\n",
        "vocab_size = len(unique_chars) #vocab size defines the possible elements of our sequences\n",
        "\n",
        "print(''.join(unique_chars))\n",
        "print(vocab_size)"
      ],
      "metadata": {
        "colab": {
          "base_uri": "https://localhost:8080/"
        },
        "id": "3HH204mzL0TG",
        "outputId": "0354da9d-9a23-4268-bbb6-519bb8bbf938"
      },
      "execution_count": 107,
      "outputs": [
        {
          "output_type": "stream",
          "name": "stdout",
          "text": [
            "\n",
            " !\"#$%&'()*+,-./0123456789:;<=>?@ABCDEFGHIJKLMNOPQRSTUVWXYZ[\\]^`abcdefghijklmnopqrstuvwxyz|~¡£¥§°±²³µ·½ÁÅÆÉÍÎÖ×ØÚÜÞàáâãäåçèéêëìíîñòóôöøúûüĀāăćčĐđėīŁłńŌōśşšūųŻžơưʻʿ̃αβγκμСавекостяاحصلنه्กงณตมยรลัาิ่์გდვზიკორსუცძწხჯ჻ḥṃṅṣṭṯảấầắễệịớửỳ‑–—‘’“”„†…′″⁄₤€₹⅓⅔→−≤☉♭♯〈〉のァアキスットプュリルヴ・動場大戦攻機殻火礮空隊﻿～\n",
            "283\n"
          ]
        }
      ]
    },
    {
      "cell_type": "markdown",
      "source": [
        "As we can see, there are 283 unique characters in the dataset that the model will be able to see or emit. This is because many are non-english. "
      ],
      "metadata": {
        "id": "tAqlEFaHP5Ju"
      }
    },
    {
      "cell_type": "code",
      "execution_count": 108,
      "metadata": {
        "colab": {
          "base_uri": "https://localhost:8080/"
        },
        "id": "_UrThSH2ePKp",
        "outputId": "9402edcf-3001-411a-b1d0-c33a702bd043"
      },
      "outputs": [
        {
          "output_type": "stream",
          "name": "stdout",
          "text": [
            "length of dataset in characters:  10791252\n"
          ]
        }
      ],
      "source": [
        "print('length of dataset in characters: ', len(text))"
      ]
    },
    {
      "cell_type": "markdown",
      "source": [
        "There are 10M characters total in the text"
      ],
      "metadata": {
        "id": "zVZP8MP9Rip2"
      }
    },
    {
      "cell_type": "code",
      "source": [],
      "metadata": {
        "id": "bQ0zUwlUivU2"
      },
      "execution_count": 108,
      "outputs": []
    },
    {
      "cell_type": "markdown",
      "metadata": {
        "id": "457P2ckUfHNC"
      },
      "source": [
        "##Tokenizing the input text\n",
        "\n",
        "Convert the raw text (as string) to a sequence of integers, according to some vocabulary \n",
        "\n",
        "Since we are building a character level language model, we will transfer individual characters to integers: eg. \"a\" maps to \"5\"; \"b\" maps to \"6\", etc. \n",
        "\n",
        "\n"
      ]
    },
    {
      "cell_type": "code",
      "execution_count": 109,
      "metadata": {
        "colab": {
          "base_uri": "https://localhost:8080/"
        },
        "id": "-Q6vML9efoZj",
        "outputId": "ba3da804-25ae-495f-8070-65c93f7f0c25"
      },
      "outputs": [
        {
          "output_type": "stream",
          "name": "stdout",
          "text": [
            "[72, 69, 76, 76, 79, 13, 1, 72, 79, 87, 1, 65, 82, 69, 1, 89, 79, 85, 32]\n",
            "hello, how are you?\n"
          ]
        }
      ],
      "source": [
        "#iterate over all characters and create a map from the character to the integer, and vice versa \n",
        "string_to_ints = {ch: i for i, ch in enumerate(unique_chars)}\n",
        "ints_to_strings = {i:ch for i, ch in enumerate(unique_chars)}\n",
        "\n",
        "#encoding: taking a string and outputting a list of ints. \n",
        "encode = lambda s: [string_to_ints[c] for c in s]\n",
        "#decoding: the opposite, take a list of integers and output a string  \n",
        "decode = lambda l: ''.join(ints_to_strings[i] for i in l)\n",
        "\n",
        "#test out on an example\n",
        "print(encode('hello, how are you?'))\n",
        "print(decode(encode('hello, how are you?')))\n",
        "\n"
      ]
    },
    {
      "cell_type": "markdown",
      "metadata": {
        "id": "4bba37Xkh3eI"
      },
      "source": [
        "We have encoded a string, and decoded it back... \n",
        "\n",
        "There are many other encoders/decoders we can use. Eg. SentencePiece, which encodes at the sub-word level (between characters and words). \n",
        "\n",
        "GPT uses byte-word \n",
        "\n",
        "we can trade off between sequence length and vocabulary size: eg. large vocabulary size with small sequence length..\n",
        "\n",
        "We will use simple functions, so we will get long sequences and small vocabulary size"
      ]
    },
    {
      "cell_type": "markdown",
      "metadata": {
        "id": "nEfN4h2XiW41"
      },
      "source": [
        "Now we can tokenize the entire Wikitext training set\n",
        "\n",
        "we will use the Pytorch tensor "
      ]
    },
    {
      "cell_type": "code",
      "execution_count": 110,
      "metadata": {
        "colab": {
          "base_uri": "https://localhost:8080/"
        },
        "id": "cI1A5HwZhb8h",
        "outputId": "962246e3-2b97-45a4-ae26-4cd487a20523"
      },
      "outputs": [
        {
          "output_type": "stream",
          "name": "stdout",
          "text": [
            "torch.Size([10791252]) torch.int64\n",
            "tensor([  1,   1,  30,   1,  55,  65,  76,  75,  89,  82,  73,  65,   1,  36,\n",
            "         72,  82,  79,  78,  73,  67,  76,  69,  83,   1,  42,  42,  42,   1,\n",
            "         30,   1,   0,   1,   1,   1,  52,  69,  78,  74, 152,   1,  78,  79,\n",
            "          1,  55,  65,  76,  75,  89,  82,  73,  65,   1,  20,   1,  27,   1,\n",
            "         29,  85,  78,  75,  31,   1,  36,  72,  82,  79,  78,  73,  67,  76,\n",
            "         69,  83,   1,   9,   1,  43,  65,  80,  65,  78,  69,  83,  69,   1,\n",
            "         27,   1, 273, 271, 257, 268, 258, 267, 260, 265, 266, 259,  20,   1,\n",
            "         13,   1,  76,  73,  84,   1,  15,   1,  55,  65,  76,  75,  89,  82,\n",
            "         73,  65,   1,  79,  70,   1,  84,  72,  69,   1,  35,  65,  84,  84,\n",
            "         76,  69,  70,  73,  69,  76,  68,   1,  20,   1,  10,   1,  13,   1,\n",
            "         67,  79,  77,  77,  79,  78,  76,  89,   1,  82,  69,  70,  69,  82,\n",
            "         82,  69,  68,   1,  84,  79,   1,  65,  83,   1,  55,  65,  76,  75,\n",
            "         89,  82,  73,  65,   1,  36,  72,  82,  79,  78,  73,  67,  76,  69,\n",
            "         83,   1,  42,  42,  42,   1,  79,  85,  84,  83,  73,  68,  69,   1,\n",
            "         43,  65,  80,  65,  78,   1,  13,   1,  73,  83,   1,  65,   1,  84,\n",
            "         65,  67,  84,  73,  67,  65,  76,   1,  82,  79,  76,  69,   1,  33,\n",
            "         14,  33,   1,  80,  76,  65,  89,  73,  78,  71,   1,  86,  73,  68,\n",
            "         69,  79,   1,  71,  65,  77,  69,   1,  68,  69,  86,  69,  76,  79,\n",
            "         80,  69,  68,   1,  66,  89,   1,  52,  69,  71,  65,   1,  65,  78,\n",
            "         68,   1,  46,  69,  68,  73,  65,  15,  55,  73,  83,  73,  79,  78,\n",
            "          1,  70,  79,  82,   1,  84,  72,  69,   1,  49,  76,  65,  89,  52,\n",
            "         84,  65,  84,  73,  79,  78,   1,  49,  79,  82,  84,  65,  66,  76,\n",
            "         69,   1,  15,   1,  51,  69,  76,  69,  65,  83,  69,  68,   1,  73,\n",
            "         78,   1,  43,  65,  78,  85,  65,  82,  89,   1,  19,  17,  18,  18,\n",
            "          1,  73,  78,   1,  43,  65,  80,  65,  78,   1,  13,   1,  73,  84,\n",
            "          1,  73,  83,   1,  84,  72,  69,   1,  84,  72,  73,  82,  68,   1,\n",
            "         71,  65,  77,  69,   1,  73,  78,   1,  84,  72,  69,   1,  55,  65,\n",
            "         76,  75,  89,  82,  73,  65,   1,  83,  69,  82,  73,  69,  83,   1,\n",
            "         15,   1,  29,  85,  78,  75,  31,   1,  84,  72,  69,   1,  83,  65,\n",
            "         77,  69,   1,  70,  85,  83,  73,  79,  78,   1,  79,  70,   1,  84,\n",
            "         65,  67,  84,  73,  67,  65,  76,   1,  65,  78,  68,   1,  82,  69,\n",
            "         65,  76,   1,  33,  14,  33,   1,  84,  73,  77,  69,   1,  71,  65,\n",
            "         77,  69,  80,  76,  65,  89,   1,  65,  83,   1,  73,  84,  83,   1,\n",
            "         80,  82,  69,  68,  69,  67,  69,  83,  83,  79,  82,  83,   1,  13,\n",
            "          1,  84,  72,  69,   1,  83,  84,  79,  82,  89,   1,  82,  85,  78,\n",
            "         83,   1,  80,  65,  82,  65,  76,  76,  69,  76,   1,  84,  79,   1,\n",
            "         84,  72,  69,   1,  70,  73,  82,  83,  84,   1,  71,  65,  77,  69,\n",
            "          1,  65,  78,  68,   1,  70,  79,  76,  76,  79,  87,  83,   1,  84,\n",
            "         72,  69,   1,   3,   1,  47,  65,  77,  69,  76,  69,  83,  83,   1,\n",
            "          3,   1,  13,   1,  65,   1,  80,  69,  78,  65,  76,   1,  77,  73,\n",
            "         76,  73,  84,  65,  82,  89,   1,  85,  78,  73,  84,   1,  83,  69,\n",
            "         82,  86,  73,  78,  71,   1,  84,  72,  69,   1,  78,  65,  84,  73,\n",
            "         79,  78,   1,  79,  70,   1,  40,  65,  76,  76,  73,  65,   1,  68,\n",
            "         85,  82,  73,  78,  71,   1,  84,  72,  69,   1,  52,  69,  67,  79,\n",
            "         78,  68,   1,  38,  85,  82,  79,  80,  65,  78,   1,  56,  65,  82,\n",
            "          1,  87,  72,  79,   1,  80,  69,  82,  70,  79,  82,  77,   1,  83,\n",
            "         69,  67,  82,  69,  84,   1,  66,  76,  65,  67,  75,   1,  79,  80,\n",
            "         69,  82,  65,  84,  73,  79,  78,  83,   1,  65,  78,  68,   1,  65,\n",
            "         82,  69,   1,  80,  73,  84,  84,  69,  68,   1,  65,  71,  65,  73,\n",
            "         78,  83,  84,   1,  84,  72,  69,   1,  42,  77,  80,  69,  82,  73,\n",
            "         65,  76,   1,  85,  78,  73,  84,   1,   3,   1,  29,  85,  78,  75,\n",
            "         31,   1,  51,  65,  86,  69,  78,   1,   3,   1,  15,   1,   0,   1,\n",
            "          1,  53,  72,  69,   1,  71,  65,  77,  69,   1,  66,  69,  71,  65,\n",
            "         78,   1,  68,  69,  86,  69,  76,  79,  80,  77,  69,  78,  84,   1,\n",
            "         73,  78,   1,  19,  17,  18,  17,   1,  13,   1,  67,  65,  82,  82,\n",
            "         89,  73,  78,  71,   1,  79,  86,  69,  82,   1,  65,   1,  76,  65,\n",
            "         82,  71,  69,   1,  80,  79,  82,  84,  73,  79,  78,   1,  79,  70,\n",
            "          1,  84,  72,  69,   1,  87,  79,  82,  75,   1,  68,  79,  78,  69,\n",
            "          1,  79,  78,   1,  55,  65,  76,  75,  89,  82,  73,  65,   1,  36,\n",
            "         72,  82,  79,  78,  73,  67,  76,  69,  83,   1,  42,  42,   1,  15,\n",
            "          1,  56,  72,  73,  76,  69,   1,  73,  84,   1,  82,  69,  84,  65,\n",
            "         73,  78,  69,  68,   1,  84,  72,  69,   1,  83,  84,  65,  78,  68,\n",
            "         65,  82,  68,   1,  70,  69,  65,  84,  85,  82,  69,  83,   1,  79,\n",
            "         70,   1,  84,  72,  69,   1,  83,  69,  82,  73,  69,  83,   1,  13,\n",
            "          1,  73,  84,   1,  65,  76,  83,  79,   1,  85,  78,  68,  69,  82,\n",
            "         87,  69,  78,  84,   1,  77,  85,  76,  84,  73,  80,  76,  69,   1,\n",
            "         65,  68,  74,  85,  83,  84,  77,  69,  78,  84,  83,   1,  13,   1,\n",
            "         83,  85,  67,  72,   1,  65,  83,   1,  77,  65,  75,  73,  78,  71,\n",
            "          1,  84,  72,  69,   1,  71,  65,  77,  69,   1,  77,  79,  82,  69,\n",
            "          1,  29,  85,  78,  75,  31,   1,  70,  79,  82,   1,  83,  69,  82,\n",
            "         73,  69,  83,   1,  78,  69,  87,  67,  79,  77,  69,  82,  83,   1,\n",
            "         15,   1,  36,  72,  65,  82])\n"
          ]
        }
      ],
      "source": [
        "#encode the text and wrap it in a Pytorch tensor\n",
        "import torch \n",
        "data = torch.tensor(encode(text), dtype = torch.long)\n",
        "print(data.shape, data.dtype)\n",
        "print(data[:1000])"
      ]
    },
    {
      "cell_type": "markdown",
      "metadata": {
        "id": "C9CILc2ci2q-"
      },
      "source": [
        "This is a sequence of the first 1000 characters encoded as integers, in the form of a Pytorch Tensor\n",
        "\n",
        "The entire text is represented as a sequence of integers\n",
        "\n",
        "Now, we want to do a train/test split at 90%/10%, respectively"
      ]
    },
    {
      "cell_type": "code",
      "execution_count": 111,
      "metadata": {
        "id": "4b8fMlmqir4N"
      },
      "outputs": [],
      "source": [
        "n = int(.9* len(data))\n",
        "train_data = data[:n]\n",
        "val_data = data[n:]"
      ]
    },
    {
      "cell_type": "markdown",
      "metadata": {
        "id": "LZYV4bGajbGA"
      },
      "source": [
        "We can't feed all the data in to the Transformer at once... we need to feed in small chunks (of a maximum length: Block_size / context_length ) at random "
      ]
    },
    {
      "cell_type": "code",
      "execution_count": 112,
      "metadata": {
        "colab": {
          "base_uri": "https://localhost:8080/"
        },
        "id": "gVKa3SHvjWfU",
        "outputId": "e4abc8db-a7b9-4ca2-a9b5-f19f00df324b"
      },
      "outputs": [
        {
          "output_type": "execute_result",
          "data": {
            "text/plain": [
              "tensor([ 1,  1, 30,  1, 55, 65, 76, 75, 89])"
            ]
          },
          "metadata": {},
          "execution_count": 112
        }
      ],
      "source": [
        "block_size = 8 \n",
        "train_data[:block_size + 1]"
      ]
    },
    {
      "cell_type": "markdown",
      "metadata": {
        "id": "W-nViYMBjqfK"
      },
      "source": [
        "These are the first 9 characters in the training set \n",
        "\n",
        "In these 9 characters, there are 8 individual training examples: \n",
        "\n",
        "For example: in the context of 1, 1 comes next.In the context of 1 and 1, 30 comes next."
      ]
    },
    {
      "cell_type": "code",
      "execution_count": 113,
      "metadata": {
        "colab": {
          "base_uri": "https://localhost:8080/"
        },
        "id": "yxQ0m1HUjoqo",
        "outputId": "28fe242a-c03a-4992-8ed0-64f260686cb8"
      },
      "outputs": [
        {
          "output_type": "stream",
          "name": "stdout",
          "text": [
            "when input is tensor([1]) the target is: 1\n",
            "when input is tensor([1, 1]) the target is: 30\n",
            "when input is tensor([ 1,  1, 30]) the target is: 1\n",
            "when input is tensor([ 1,  1, 30,  1]) the target is: 55\n",
            "when input is tensor([ 1,  1, 30,  1, 55]) the target is: 65\n",
            "when input is tensor([ 1,  1, 30,  1, 55, 65]) the target is: 76\n",
            "when input is tensor([ 1,  1, 30,  1, 55, 65, 76]) the target is: 75\n",
            "when input is tensor([ 1,  1, 30,  1, 55, 65, 76, 75]) the target is: 89\n"
          ]
        }
      ],
      "source": [
        "#x are inputs to transformer ... the first block_size characters\n",
        "x = train_data[:block_size]\n",
        "#y are the targets for each position in the input... they will be next block size, (offset by 1 compared to x)\n",
        "y = train_data[1:block_size+1]\n",
        "\n",
        "for t in range(block_size):\n",
        "  context = x[:t+1] \n",
        "  target = y[t]\n",
        "  print(f'when input is {context} the target is: {target}')"
      ]
    },
    {
      "cell_type": "markdown",
      "metadata": {
        "id": "ZDTF4G9lk6TD"
      },
      "source": [
        "This spells out what we said above:  there are 8 contexts: 1; 1,1, 1,1,30; 1,1,30,1; etc. \n",
        "\n",
        "There are 8 targets (eg. tokens that come next, and that we are aiming to predict): 1,30,1, respectively "
      ]
    },
    {
      "cell_type": "markdown",
      "metadata": {
        "id": "UeSN9GiNmQn4"
      },
      "source": [
        "For efficiency, we want to process multiple text chunks in parallel on the GPU, so we need to create batches. \n"
      ]
    },
    {
      "cell_type": "code",
      "execution_count": 114,
      "metadata": {
        "colab": {
          "base_uri": "https://localhost:8080/"
        },
        "id": "rYFQq2Djk4pH",
        "outputId": "b528f39a-dd62-4962-836b-18500404eb8a"
      },
      "outputs": [
        {
          "output_type": "stream",
          "name": "stdout",
          "text": [
            "inputs: \n",
            "torch.Size([4, 8])\n",
            "tensor([[65, 66, 76, 69,  1, 66, 65, 82],\n",
            "        [84, 72, 69,  1, 33, 14, 33,  1],\n",
            "        [ 1,  1,  1,  1, 30,  1, 53, 72],\n",
            "        [69, 82,  1, 72, 69, 82,  1, 79]])\n",
            "targets: \n",
            "torch.Size([4, 8])\n",
            "tensor([[66, 76, 69,  1, 66, 65, 82, 82],\n",
            "        [72, 69,  1, 33, 14, 33,  1, 84],\n",
            "        [ 1,  1,  1, 30,  1, 53, 72, 69],\n",
            "        [82,  1, 72, 69, 82,  1, 79, 87]])\n",
            "-----\n",
            "when input is [65] the target: 66\n",
            "when input is [65, 66] the target: 76\n",
            "when input is [65, 66, 76] the target: 69\n",
            "when input is [65, 66, 76, 69] the target: 1\n",
            "when input is [65, 66, 76, 69, 1] the target: 66\n",
            "when input is [65, 66, 76, 69, 1, 66] the target: 65\n",
            "when input is [65, 66, 76, 69, 1, 66, 65] the target: 82\n",
            "when input is [65, 66, 76, 69, 1, 66, 65, 82] the target: 82\n",
            "when input is [84] the target: 72\n",
            "when input is [84, 72] the target: 69\n",
            "when input is [84, 72, 69] the target: 1\n",
            "when input is [84, 72, 69, 1] the target: 33\n",
            "when input is [84, 72, 69, 1, 33] the target: 14\n",
            "when input is [84, 72, 69, 1, 33, 14] the target: 33\n",
            "when input is [84, 72, 69, 1, 33, 14, 33] the target: 1\n",
            "when input is [84, 72, 69, 1, 33, 14, 33, 1] the target: 84\n",
            "when input is [1] the target: 1\n",
            "when input is [1, 1] the target: 1\n",
            "when input is [1, 1, 1] the target: 1\n",
            "when input is [1, 1, 1, 1] the target: 30\n",
            "when input is [1, 1, 1, 1, 30] the target: 1\n",
            "when input is [1, 1, 1, 1, 30, 1] the target: 53\n",
            "when input is [1, 1, 1, 1, 30, 1, 53] the target: 72\n",
            "when input is [1, 1, 1, 1, 30, 1, 53, 72] the target: 69\n",
            "when input is [69] the target: 82\n",
            "when input is [69, 82] the target: 1\n",
            "when input is [69, 82, 1] the target: 72\n",
            "when input is [69, 82, 1, 72] the target: 69\n",
            "when input is [69, 82, 1, 72, 69] the target: 82\n",
            "when input is [69, 82, 1, 72, 69, 82] the target: 1\n",
            "when input is [69, 82, 1, 72, 69, 82, 1] the target: 79\n",
            "when input is [69, 82, 1, 72, 69, 82, 1, 79] the target: 87\n"
          ]
        }
      ],
      "source": [
        "torch.manual_seed(1337)\n",
        "batch_size = 4\n",
        "block_size = 8  #This is also sometimes referred to as 'T for Time'\n",
        "\n",
        "#generate a small batch of data of inputs x and targets y \n",
        "#we will be stacking 4 rows of width 8 into a single 4x8 tensor\n",
        "\n",
        "def get_batch(split): \n",
        "  #set the data that we are grabbing the batches from to be train_data or test_data\n",
        "  data = train_data if split == 'train' else val_data \n",
        "  #set batch_size number of indexes for where to grab the chunks from in the data array\n",
        "  ix = torch.randint(len(data) - block_size, (batch_size,))\n",
        "  #grab batches of data for inputs, by concatenation  \n",
        "  x = torch.stack([data[i:i+block_size] for i in ix])\n",
        "  #grab batches of data for targets, which will be offset by 1 compared to x \n",
        "  y = torch.stack([data[i+1:i+block_size+1] for i in ix])\n",
        "\n",
        "  return x,y\n",
        "\n",
        "xb, yb = get_batch('train')\n",
        "print('inputs: ')\n",
        "print(xb.shape)\n",
        "print(xb)\n",
        "print('targets: ')\n",
        "print(yb.shape)\n",
        "print(yb)\n",
        "\n",
        "print('-----')\n",
        "\n",
        "#some code to help understand the context and targets a bit more \n",
        "\n",
        "for b in range(batch_size): #batch dimension \n",
        "  for t in range(block_size): \n",
        "    context = xb[b, :t+1]\n",
        "    target = yb[b, t]\n",
        "    print(f'when input is {context.tolist()} the target: {target}')\n",
        " \n",
        "\n",
        " #we have 32 independent examples packed into a single batch "
      ]
    },
    {
      "cell_type": "code",
      "execution_count": 115,
      "metadata": {
        "colab": {
          "base_uri": "https://localhost:8080/"
        },
        "id": "9eFdFPRcrrFb",
        "outputId": "304a7deb-1703-4203-d3e9-ba8ee7acc885"
      },
      "outputs": [
        {
          "output_type": "stream",
          "name": "stdout",
          "text": [
            "tensor([[65, 66, 76, 69,  1, 66, 65, 82],\n",
            "        [84, 72, 69,  1, 33, 14, 33,  1],\n",
            "        [ 1,  1,  1,  1, 30,  1, 53, 72],\n",
            "        [69, 82,  1, 72, 69, 82,  1, 79]])\n"
          ]
        }
      ],
      "source": [
        "#print our input to the transformer \n",
        "print(xb) #Of shape = (Batch_size x block_size (T for Time))"
      ]
    },
    {
      "cell_type": "code",
      "source": [
        "#we can modularize this code with the following class: \n",
        "\n",
        "# data loading\n",
        "def get_batch(split):\n",
        "\n",
        "    # generate a small batch of data of inputs x and targets y\n",
        "    data = train_data if split == 'train' else val_data\n",
        "    ix = torch.randint(len(data) - block_size, (batch_size,))\n",
        "    x = torch.stack([data[i:i+block_size] for i in ix])\n",
        "    y = torch.stack([data[i+1:i+block_size+1] for i in ix])\n",
        "    x, y = x, y\n",
        "    return x, y"
      ],
      "metadata": {
        "id": "WHpls4xJi2ih"
      },
      "execution_count": 135,
      "outputs": []
    },
    {
      "cell_type": "markdown",
      "metadata": {
        "id": "6AQqkBb3rw-K"
      },
      "source": [
        "##Start with simple baseline: Bigram language model\n",
        "\n"
      ]
    },
    {
      "cell_type": "code",
      "execution_count": 136,
      "metadata": {
        "colab": {
          "base_uri": "https://localhost:8080/"
        },
        "id": "c0-jz_Lsr1W8",
        "outputId": "b4677f04-1692-44a6-b357-c39a524dd2ce"
      },
      "outputs": [
        {
          "output_type": "stream",
          "name": "stdout",
          "text": [
            "torch.Size([256, 283])\n",
            "tensor(6.2152, device='cuda:0', grad_fn=<NllLossBackward0>)\n",
            "\n",
            "\\kảCVâ/გễ~ÚázJmย″MàIVิκCÚ €uịI^tü⅓Î♯çśアÁルå ştV^კ〉ვšëčキ→dア€﻿şṣux่გ@óLDëVâ.殻ûśa火リк³S·&\n",
            "g̃éş1eäÖu~hプ>%v\n"
          ]
        }
      ],
      "source": [
        "import torch \n",
        "import torch.nn as nn\n",
        "from torch.nn import functional as F \n",
        "torch.manual_seed(1337)\n",
        "\n",
        "class BigramLanguageModel(nn.Module): \n",
        "  def __init__(self, vocab_size): \n",
        "    super().__init__()\n",
        "    #Create an embedding table for each unique character \n",
        "    self.token_embedding_table = nn.Embedding(vocab_size, vocab_size) #Embedding class creates a tensor of vocab_size x vocab_size \n",
        "\n",
        "  def forward(self, idx, targets = None): \n",
        "    #idx and targets are both (Batch_size, block_size (or T for Time)) tensors of integers\n",
        "    #Logits are of size (B,T,C); C = embedding_dimension (in this case = vocab_size) ... these are the predictions for each one of the 4x8 (BXT) positions \n",
        "    #in other words, for each batch, for each position context, there is a list of predictions at that position \n",
        "\n",
        "    logits = self.token_embedding_table(idx)\n",
        "\n",
        "    #targets is optional, so if there is a targets inputted: \n",
        "    if targets is None: \n",
        "      loss = None\n",
        "\n",
        "    else: \n",
        "      #build a loss\n",
        "      #pytorch wants (B,C,T) rather than (B,T,C), so we need to reshape logits \n",
        "      B,T,C = logits.shape\n",
        "      #reshape logits to a shape that pytorch expects\n",
        "      logits = logits.view(B*T, C) #stretch out the 3D tensor into a 2D tensor, preserving the channels as the 2nd dimension \n",
        "      #reshape targets: they are currently (B,T), we will stretch to make 1D)  \n",
        "      targets = targets.view(B*T)\n",
        "\n",
        "      loss = F.cross_entropy(logits, targets)\n",
        "\n",
        "    return logits, loss\n",
        "\n",
        "  #continues the generation in the time dimension, for each batch dimension \n",
        "  def generate(self, idx, max_new_tokens): #max new tokens is a parameter determining the number of tokens we want to generate \n",
        "    #idx is (B,T) array of indices in the current context\n",
        "    for _ in range(max_new_tokens): \n",
        "      logits, loss = self(idx) # shape(B,T,C) this will perform the forward function \n",
        "      #focus only on the last time step, the prediction for the next token \n",
        "      logits = logits[:, -1, :] #this becomes (B,C) \n",
        "      #apply softmax over the C dimension to get probabilities \n",
        "      probs = F.softmax(logits, dim = -1) #(B,C) \n",
        "      #sample 1 item from this distribution \n",
        "      idx_next = torch.multinomial(probs, num_samples=1) #(B,1) \n",
        "      #append sampled index to the running sequence \n",
        "      idx = torch.cat((idx, idx_next), dim = 1) #(B,T+1)\n",
        "\n",
        "    return idx\n",
        "\n",
        "\n",
        "bigram_model = BigramLanguageModel(vocab_size) \n",
        "print(logits.shape)\n",
        "print(loss)\n",
        "\n",
        "#generate a (random, because untrained) length 100 sequence from the model, by inputting a single 'space' character\n",
        "print(decode(bigram_model.generate(idx = torch.zeros((1,1), dtype = torch.long), max_new_tokens = 100)[0].tolist()))\n",
        "\n",
        "\n"
      ]
    },
    {
      "cell_type": "markdown",
      "metadata": {
        "id": "wWddrEPpuO-7"
      },
      "source": [
        "This model so far is a bit outrageous, because we are feeding long (block_size) length contexts into the generate function, but the function is only making predictions using the token immediately preceding the token to predict on.... We are doing this so we can re-use the generate function later on.  "
      ]
    },
    {
      "cell_type": "markdown",
      "metadata": {
        "id": "Lqz6LKdb0yFP"
      },
      "source": [
        "##Train the Bigram model\n",
        "\n"
      ]
    },
    {
      "cell_type": "code",
      "execution_count": 137,
      "metadata": {
        "id": "gQ4ty7_SuN5E"
      },
      "outputs": [],
      "source": [
        "#create a pytorch optimizer \n",
        "optimizer = torch.optim.AdamW(bigram_model.parameters(), lr = 1e-3) "
      ]
    },
    {
      "cell_type": "code",
      "execution_count": 138,
      "metadata": {
        "colab": {
          "base_uri": "https://localhost:8080/"
        },
        "id": "KPiBJmbg1UHN",
        "outputId": "7375c101-c103-4367-8705-8cddede94430"
      },
      "outputs": [
        {
          "output_type": "stream",
          "name": "stdout",
          "text": [
            "2.374697208404541\n"
          ]
        }
      ],
      "source": [
        "batch_size = 32\n",
        "for steps in range(10000): \n",
        "  #get a batch of data \n",
        "  xb, yb = get_batch('train')\n",
        "\n",
        "  #evaluate the loss \n",
        "  logits, loss = bigram_model(xb, yb) #pass the index and targets thorugh our bigram model \n",
        "  optimizer.zero_grad(set_to_none = True)\n",
        "  loss.backward()\n",
        "  optimizer.step()\n",
        "\n",
        "print(loss.item())"
      ]
    },
    {
      "cell_type": "code",
      "execution_count": 139,
      "metadata": {
        "colab": {
          "base_uri": "https://localhost:8080/"
        },
        "id": "pzuP7ivF1y7K",
        "outputId": "fa03fdde-3c90-4b81-f587-9881cece811b"
      },
      "outputs": [
        {
          "output_type": "stream",
          "name": "stdout",
          "text": [
            "\n",
            " sonupenff o 12ndalyต@-@-@წ8. s clde hescteche Nor airex Al <und FThe n wo the Shede isldizz terecthe , tofe <untinded ton he ad thess ese are inctlsure ar then tonøÍ～gurstim wf athas (プγĀ. ghio cethoose <ungld f SAfox imiconetea ga d g lllad Mainkne se \" webon a toves Sig thed 19  thank> Iliver <un\n"
          ]
        }
      ],
      "source": [
        "#Let's generate some predictions and decode \n",
        "print(decode(bigram_model.generate(idx = torch.zeros((1,1), dtype = torch.long), max_new_tokens = 300)[0].tolist()))\n"
      ]
    },
    {
      "cell_type": "markdown",
      "metadata": {
        "id": "lrnOCtwj2QOq"
      },
      "source": [
        "Still jibberish, but starting to look almost sort of like English... definitely not looking like Wikipedia text however. \n",
        "\n",
        "We are only using as context for each character prediction the single previous charcter. Now, we can start to use more context for prediction. \n",
        "\n",
        "So, we will build a Transformer \n"
      ]
    },
    {
      "cell_type": "markdown",
      "source": [
        "##Building a Transformer\n",
        "\n",
        "So far, we have only built a super super simple Bigram model. Now, we will build a Decoder-only Transformer model and pass our data through it. \n",
        "\n",
        "The Decoder architecture consists of multiple decoder blocks composed of: \n",
        "- MultiHead self attention \n",
        "- Layernorm + residual connections \n",
        "- Feedforward layers \n",
        "\n",
        "Let's build classes for each of these, and then put them all together \n",
        "\n",
        "\n"
      ],
      "metadata": {
        "id": "IZ9Ib1usXE3a"
      }
    },
    {
      "cell_type": "markdown",
      "source": [
        "###Self Attention \n",
        "Self-attention is fundamental to Transformers. In the following code, we will implement Single-head self attention, before modifying it to using   multiheads later. "
      ],
      "metadata": {
        "id": "f0WSf5xxXY8b"
      }
    },
    {
      "cell_type": "code",
      "source": [
        "#implementation of single-head self-attention \n",
        "torch.manual_seed(1337)\n",
        "B,T,C = 4,8,32 # batch, time, channels\n",
        "x = torch.randn(B,T,C)\n",
        "\n",
        "# let's see a single Head perform self-attention\n",
        "#define head_size: head size is typically much smaller than C, the embedding dimension. We will use 16 for now \n",
        "head_size = 16\n",
        "\n",
        "#create the key, query, and value Weight matrices (Linear layers). \n",
        "key = nn.Linear(C, head_size, bias=False)\n",
        "query = nn.Linear(C, head_size, bias=False)\n",
        "value = nn.Linear(C, head_size, bias=False)\n",
        "\n",
        "#create a key and query for the input \n",
        "k = key(x)   # (B, T, head_size)\n",
        "q = query(x) # (B, T, head_size)\n",
        "\n",
        "wei =  q @ k.transpose(-2, -1) # (B, T, head_size) @ (B, head_size, T) ---> (B, T, T)\n",
        "print(f' wei pre tril: {wei} ' )\n",
        "\n",
        "#tril creates a lower triangular matrix of ones\n",
        "tril = torch.tril(torch.ones(T, T))\n",
        "print(f' tril: {tril}')\n",
        "\n",
        "#set positions in wei = -inf, where tril = 0 \n",
        "wei = wei.masked_fill(tril == 0, float('-inf')) \n",
        "print(f' wei post tril: {wei} ' )\n",
        "wei = F.softmax(wei, dim=-1)\n",
        "print(f' wei post softmax: {wei} ')\n",
        "\n",
        "#create a value out of the input x  \n",
        "v = value(x)\n",
        "#matrix multiply our weight tensor by the value  \n",
        "out = wei @ v\n",
        "#out = wei @ x\n",
        "\n",
        "out.shape"
      ],
      "metadata": {
        "colab": {
          "base_uri": "https://localhost:8080/"
        },
        "id": "28RG40Q6XBQT",
        "outputId": "53f3dd37-aad6-4e83-e39d-b615e51b8492"
      },
      "execution_count": 141,
      "outputs": [
        {
          "output_type": "stream",
          "name": "stdout",
          "text": [
            " wei pre tril: tensor([[[-1.7629e+00, -1.3011e+00,  5.6516e-01,  2.1616e+00, -1.0674e+00,\n",
            "           1.9632e+00,  1.0765e+00, -4.5295e-01],\n",
            "         [-3.3334e+00, -1.6556e+00,  1.0405e-01,  3.3782e+00, -2.1825e+00,\n",
            "           1.0415e+00, -5.5714e-02,  2.9273e-01],\n",
            "         [-1.0226e+00, -1.2606e+00,  7.6228e-02, -3.8125e-01, -9.8430e-01,\n",
            "          -1.4303e+00,  7.4921e-02, -9.5465e-01],\n",
            "         [ 7.8359e-01, -8.0143e-01, -3.3680e-01, -8.4963e-01, -5.6023e-01,\n",
            "          -1.1701e+00, -1.2927e+00, -1.0260e+00],\n",
            "         [-1.2566e+00,  1.8719e-02, -7.8797e-01, -1.3204e+00,  2.0363e+00,\n",
            "           8.6381e-01,  3.7188e-01,  9.2577e-01],\n",
            "         [-3.1262e-01,  2.4152e+00, -1.1058e-01, -9.9305e-01,  3.3449e+00,\n",
            "          -2.5229e+00,  1.4187e+00,  1.2196e+00],\n",
            "         [ 1.0876e+00,  1.9652e+00, -2.6213e-01, -3.1579e-01,  6.0905e-01,\n",
            "           1.2616e+00, -5.4841e-01,  8.0485e-01],\n",
            "         [-1.8044e+00, -4.1260e-01, -8.3061e-01,  5.8985e-01, -7.9869e-01,\n",
            "          -5.8560e-01,  6.4332e-01,  6.3028e-01]],\n",
            "\n",
            "        [[-7.3529e-01, -1.7807e+00,  1.0745e+00, -2.7429e-01,  1.6347e+00,\n",
            "           1.4177e+00, -5.5213e-01, -2.3580e+00],\n",
            "         [-3.0892e+00, -1.4943e+00, -2.6167e-01,  2.2760e+00, -2.4364e-01,\n",
            "           1.6198e-01,  2.5783e+00,  3.9591e-01],\n",
            "         [-5.0206e-01, -2.0745e+00,  5.3785e-01, -4.0494e-01,  8.3292e-01,\n",
            "           1.3570e+00, -1.5621e+00, -1.6490e+00],\n",
            "         [ 1.3810e+00, -1.4713e-01,  1.2181e+00, -2.2266e-01, -1.8247e+00,\n",
            "          -3.7044e+00, -2.1321e+00,  1.3178e+00],\n",
            "         [-2.3568e+00, -4.6170e-01, -8.8196e-01,  2.3700e+00,  6.7828e-01,\n",
            "           1.6262e-01,  1.9379e+00,  1.0397e-01],\n",
            "         [-9.2435e-01, -6.2351e-01, -1.3938e+00,  1.3336e+00, -8.9731e-03,\n",
            "          -3.1789e+00,  9.0259e-01,  3.6256e+00],\n",
            "         [-6.5522e-01,  1.0991e+00, -2.1399e+00,  9.6468e-01,  9.9463e-01,\n",
            "           9.3899e-01,  4.6799e-01, -3.5870e-01],\n",
            "         [ 1.5463e+00, -4.9438e-01, -1.4180e-02, -9.7428e-01,  1.3779e+00,\n",
            "           7.8648e-03, -5.3590e-01, -4.5531e-01]],\n",
            "\n",
            "        [[-3.7898e-01,  5.1592e-01,  3.0332e-01,  1.1303e+00,  2.0511e+00,\n",
            "           2.2323e+00,  3.1239e+00, -1.2231e+00],\n",
            "         [ 1.0377e-01,  1.7584e-01, -1.6369e-01,  5.2328e-01, -2.2172e+00,\n",
            "          -8.7770e-01,  1.7020e-01, -1.0842e+00],\n",
            "         [-1.6373e+00, -6.5557e-01, -8.5031e-01,  2.3457e+00, -9.9497e-01,\n",
            "          -4.9228e-02,  5.5157e-01,  1.5285e+00],\n",
            "         [-2.7155e+00,  1.9022e+00, -8.4620e-01,  5.9058e-01,  2.1122e+00,\n",
            "           8.8971e-01, -2.0679e+00, -7.4249e-01],\n",
            "         [ 2.5044e+00, -4.9691e-01, -2.6300e-01, -1.6288e-01, -1.7459e+00,\n",
            "           8.6298e-02,  2.7739e+00, -2.4952e-02],\n",
            "         [-4.8634e-02,  4.9620e-01, -2.0859e-01, -8.4632e-02,  3.6811e-01,\n",
            "           7.8713e-01, -1.9678e-01,  4.1090e-01],\n",
            "         [-1.7485e+00,  4.6233e-01,  3.8654e-03,  2.1114e+00,  1.2731e+00,\n",
            "           2.1582e+00,  1.3125e+00,  2.0600e+00],\n",
            "         [-8.5500e-02, -1.5414e-02, -1.3915e+00,  6.3086e-02, -2.4530e-01,\n",
            "          -2.0677e-01, -2.2102e+00,  4.4531e-01]],\n",
            "\n",
            "        [[ 4.5165e-01,  3.2148e-01, -3.1926e+00,  3.0765e-01, -6.1612e-01,\n",
            "           2.5626e-01, -2.9891e-01, -2.1917e+00],\n",
            "         [-4.0009e-01, -9.6205e-01,  1.9568e+00,  6.6612e-01, -3.2630e-01,\n",
            "           2.6258e-01, -1.3973e+00, -8.9450e-01],\n",
            "         [-4.6199e-01,  5.8600e-01, -4.6738e+00, -3.2178e-01,  1.2684e+00,\n",
            "          -1.7402e-01,  1.2461e+00, -2.2283e+00],\n",
            "         [-7.1746e-01, -1.0279e+00, -2.0509e+00, -2.7234e+00,  3.1231e-01,\n",
            "          -1.6416e-01,  1.5162e+00, -7.7670e-01],\n",
            "         [-4.0388e-01,  5.1597e-01, -2.0697e+00, -4.0982e-01, -8.0534e-01,\n",
            "           5.2210e-01, -4.1242e-01,  1.3377e+00],\n",
            "         [ 8.2322e-01,  3.0237e+00, -3.0655e+00,  7.0404e-01,  6.7207e-01,\n",
            "          -4.6692e-01,  2.3746e+00,  3.1181e-01],\n",
            "         [-1.4141e+00, -1.4241e+00, -8.0387e-01, -1.7450e+00, -7.4035e-01,\n",
            "           9.8188e-01, -9.0056e-01, -2.3158e+00],\n",
            "         [-5.0277e-01,  1.6844e+00, -4.1847e-01,  1.0239e+00,  1.0275e+00,\n",
            "           1.3980e-01,  4.8822e-01,  1.5573e+00]]],\n",
            "       grad_fn=<UnsafeViewBackward0>) \n",
            " tril: tensor([[1., 0., 0., 0., 0., 0., 0., 0.],\n",
            "        [1., 1., 0., 0., 0., 0., 0., 0.],\n",
            "        [1., 1., 1., 0., 0., 0., 0., 0.],\n",
            "        [1., 1., 1., 1., 0., 0., 0., 0.],\n",
            "        [1., 1., 1., 1., 1., 0., 0., 0.],\n",
            "        [1., 1., 1., 1., 1., 1., 0., 0.],\n",
            "        [1., 1., 1., 1., 1., 1., 1., 0.],\n",
            "        [1., 1., 1., 1., 1., 1., 1., 1.]])\n",
            " wei post tril: tensor([[[-1.7629e+00,        -inf,        -inf,        -inf,        -inf,\n",
            "                 -inf,        -inf,        -inf],\n",
            "         [-3.3334e+00, -1.6556e+00,        -inf,        -inf,        -inf,\n",
            "                 -inf,        -inf,        -inf],\n",
            "         [-1.0226e+00, -1.2606e+00,  7.6228e-02,        -inf,        -inf,\n",
            "                 -inf,        -inf,        -inf],\n",
            "         [ 7.8359e-01, -8.0143e-01, -3.3680e-01, -8.4963e-01,        -inf,\n",
            "                 -inf,        -inf,        -inf],\n",
            "         [-1.2566e+00,  1.8719e-02, -7.8797e-01, -1.3204e+00,  2.0363e+00,\n",
            "                 -inf,        -inf,        -inf],\n",
            "         [-3.1262e-01,  2.4152e+00, -1.1058e-01, -9.9305e-01,  3.3449e+00,\n",
            "          -2.5229e+00,        -inf,        -inf],\n",
            "         [ 1.0876e+00,  1.9652e+00, -2.6213e-01, -3.1579e-01,  6.0905e-01,\n",
            "           1.2616e+00, -5.4841e-01,        -inf],\n",
            "         [-1.8044e+00, -4.1260e-01, -8.3061e-01,  5.8985e-01, -7.9869e-01,\n",
            "          -5.8560e-01,  6.4332e-01,  6.3028e-01]],\n",
            "\n",
            "        [[-7.3529e-01,        -inf,        -inf,        -inf,        -inf,\n",
            "                 -inf,        -inf,        -inf],\n",
            "         [-3.0892e+00, -1.4943e+00,        -inf,        -inf,        -inf,\n",
            "                 -inf,        -inf,        -inf],\n",
            "         [-5.0206e-01, -2.0745e+00,  5.3785e-01,        -inf,        -inf,\n",
            "                 -inf,        -inf,        -inf],\n",
            "         [ 1.3810e+00, -1.4713e-01,  1.2181e+00, -2.2266e-01,        -inf,\n",
            "                 -inf,        -inf,        -inf],\n",
            "         [-2.3568e+00, -4.6170e-01, -8.8196e-01,  2.3700e+00,  6.7828e-01,\n",
            "                 -inf,        -inf,        -inf],\n",
            "         [-9.2435e-01, -6.2351e-01, -1.3938e+00,  1.3336e+00, -8.9731e-03,\n",
            "          -3.1789e+00,        -inf,        -inf],\n",
            "         [-6.5522e-01,  1.0991e+00, -2.1399e+00,  9.6468e-01,  9.9463e-01,\n",
            "           9.3899e-01,  4.6799e-01,        -inf],\n",
            "         [ 1.5463e+00, -4.9438e-01, -1.4180e-02, -9.7428e-01,  1.3779e+00,\n",
            "           7.8648e-03, -5.3590e-01, -4.5531e-01]],\n",
            "\n",
            "        [[-3.7898e-01,        -inf,        -inf,        -inf,        -inf,\n",
            "                 -inf,        -inf,        -inf],\n",
            "         [ 1.0377e-01,  1.7584e-01,        -inf,        -inf,        -inf,\n",
            "                 -inf,        -inf,        -inf],\n",
            "         [-1.6373e+00, -6.5557e-01, -8.5031e-01,        -inf,        -inf,\n",
            "                 -inf,        -inf,        -inf],\n",
            "         [-2.7155e+00,  1.9022e+00, -8.4620e-01,  5.9058e-01,        -inf,\n",
            "                 -inf,        -inf,        -inf],\n",
            "         [ 2.5044e+00, -4.9691e-01, -2.6300e-01, -1.6288e-01, -1.7459e+00,\n",
            "                 -inf,        -inf,        -inf],\n",
            "         [-4.8634e-02,  4.9620e-01, -2.0859e-01, -8.4632e-02,  3.6811e-01,\n",
            "           7.8713e-01,        -inf,        -inf],\n",
            "         [-1.7485e+00,  4.6233e-01,  3.8654e-03,  2.1114e+00,  1.2731e+00,\n",
            "           2.1582e+00,  1.3125e+00,        -inf],\n",
            "         [-8.5500e-02, -1.5414e-02, -1.3915e+00,  6.3086e-02, -2.4530e-01,\n",
            "          -2.0677e-01, -2.2102e+00,  4.4531e-01]],\n",
            "\n",
            "        [[ 4.5165e-01,        -inf,        -inf,        -inf,        -inf,\n",
            "                 -inf,        -inf,        -inf],\n",
            "         [-4.0009e-01, -9.6205e-01,        -inf,        -inf,        -inf,\n",
            "                 -inf,        -inf,        -inf],\n",
            "         [-4.6199e-01,  5.8600e-01, -4.6738e+00,        -inf,        -inf,\n",
            "                 -inf,        -inf,        -inf],\n",
            "         [-7.1746e-01, -1.0279e+00, -2.0509e+00, -2.7234e+00,        -inf,\n",
            "                 -inf,        -inf,        -inf],\n",
            "         [-4.0388e-01,  5.1597e-01, -2.0697e+00, -4.0982e-01, -8.0534e-01,\n",
            "                 -inf,        -inf,        -inf],\n",
            "         [ 8.2322e-01,  3.0237e+00, -3.0655e+00,  7.0404e-01,  6.7207e-01,\n",
            "          -4.6692e-01,        -inf,        -inf],\n",
            "         [-1.4141e+00, -1.4241e+00, -8.0387e-01, -1.7450e+00, -7.4035e-01,\n",
            "           9.8188e-01, -9.0056e-01,        -inf],\n",
            "         [-5.0277e-01,  1.6844e+00, -4.1847e-01,  1.0239e+00,  1.0275e+00,\n",
            "           1.3980e-01,  4.8822e-01,  1.5573e+00]]],\n",
            "       grad_fn=<MaskedFillBackward0>) \n",
            " wei post softmax: tensor([[[1.0000, 0.0000, 0.0000, 0.0000, 0.0000, 0.0000, 0.0000, 0.0000],\n",
            "         [0.1574, 0.8426, 0.0000, 0.0000, 0.0000, 0.0000, 0.0000, 0.0000],\n",
            "         [0.2088, 0.1646, 0.6266, 0.0000, 0.0000, 0.0000, 0.0000, 0.0000],\n",
            "         [0.5792, 0.1187, 0.1889, 0.1131, 0.0000, 0.0000, 0.0000, 0.0000],\n",
            "         [0.0294, 0.1052, 0.0469, 0.0276, 0.7909, 0.0000, 0.0000, 0.0000],\n",
            "         [0.0176, 0.2689, 0.0215, 0.0089, 0.6812, 0.0019, 0.0000, 0.0000],\n",
            "         [0.1691, 0.4066, 0.0438, 0.0416, 0.1048, 0.2012, 0.0329, 0.0000],\n",
            "         [0.0210, 0.0843, 0.0555, 0.2297, 0.0573, 0.0709, 0.2423, 0.2391]],\n",
            "\n",
            "        [[1.0000, 0.0000, 0.0000, 0.0000, 0.0000, 0.0000, 0.0000, 0.0000],\n",
            "         [0.1687, 0.8313, 0.0000, 0.0000, 0.0000, 0.0000, 0.0000, 0.0000],\n",
            "         [0.2477, 0.0514, 0.7008, 0.0000, 0.0000, 0.0000, 0.0000, 0.0000],\n",
            "         [0.4410, 0.0957, 0.3747, 0.0887, 0.0000, 0.0000, 0.0000, 0.0000],\n",
            "         [0.0069, 0.0456, 0.0300, 0.7748, 0.1427, 0.0000, 0.0000, 0.0000],\n",
            "         [0.0660, 0.0892, 0.0413, 0.6316, 0.1649, 0.0069, 0.0000, 0.0000],\n",
            "         [0.0396, 0.2288, 0.0090, 0.2000, 0.2061, 0.1949, 0.1217, 0.0000],\n",
            "         [0.3650, 0.0474, 0.0767, 0.0293, 0.3084, 0.0784, 0.0455, 0.0493]],\n",
            "\n",
            "        [[1.0000, 0.0000, 0.0000, 0.0000, 0.0000, 0.0000, 0.0000, 0.0000],\n",
            "         [0.4820, 0.5180, 0.0000, 0.0000, 0.0000, 0.0000, 0.0000, 0.0000],\n",
            "         [0.1705, 0.4550, 0.3745, 0.0000, 0.0000, 0.0000, 0.0000, 0.0000],\n",
            "         [0.0074, 0.7444, 0.0477, 0.2005, 0.0000, 0.0000, 0.0000, 0.0000],\n",
            "         [0.8359, 0.0416, 0.0525, 0.0580, 0.0119, 0.0000, 0.0000, 0.0000],\n",
            "         [0.1195, 0.2061, 0.1019, 0.1153, 0.1814, 0.2758, 0.0000, 0.0000],\n",
            "         [0.0065, 0.0589, 0.0372, 0.3063, 0.1325, 0.3209, 0.1378, 0.0000],\n",
            "         [0.1416, 0.1519, 0.0384, 0.1643, 0.1207, 0.1254, 0.0169, 0.2408]],\n",
            "\n",
            "        [[1.0000, 0.0000, 0.0000, 0.0000, 0.0000, 0.0000, 0.0000, 0.0000],\n",
            "         [0.6369, 0.3631, 0.0000, 0.0000, 0.0000, 0.0000, 0.0000, 0.0000],\n",
            "         [0.2586, 0.7376, 0.0038, 0.0000, 0.0000, 0.0000, 0.0000, 0.0000],\n",
            "         [0.4692, 0.3440, 0.1237, 0.0631, 0.0000, 0.0000, 0.0000, 0.0000],\n",
            "         [0.1865, 0.4680, 0.0353, 0.1854, 0.1248, 0.0000, 0.0000, 0.0000],\n",
            "         [0.0828, 0.7479, 0.0017, 0.0735, 0.0712, 0.0228, 0.0000, 0.0000],\n",
            "         [0.0522, 0.0517, 0.0961, 0.0375, 0.1024, 0.5730, 0.0872, 0.0000],\n",
            "         [0.0306, 0.2728, 0.0333, 0.1409, 0.1414, 0.0582, 0.0825, 0.2402]]],\n",
            "       grad_fn=<SoftmaxBackward0>) \n"
          ]
        },
        {
          "output_type": "execute_result",
          "data": {
            "text/plain": [
              "torch.Size([4, 8, 16])"
            ]
          },
          "metadata": {},
          "execution_count": 141
        }
      ]
    },
    {
      "cell_type": "code",
      "source": [
        "#we can modularize this code with the following class: \n",
        "\n",
        "#we inherit from nn.module and define an init and forward function \n",
        "class SingleHeadAttention(nn.Module):\n",
        "    \"We inhere\"\n",
        "\n",
        "    #we define key, query, and value matrices, as well as a dropout layer (present in the original Attention is All You Need paper)\n",
        "    def __init__(self, head_size):\n",
        "        super().__init__()\n",
        "        self.key = nn.Linear(n_embd, head_size, bias=False)\n",
        "        self.query = nn.Linear(n_embd, head_size, bias=False)\n",
        "        self.value = nn.Linear(n_embd, head_size, bias=False)\n",
        "        #there is no need to train \"tril\", so we should register as a buffer\n",
        "        self.register_buffer('tril', torch.tril(torch.ones(block_size, block_size)))\n",
        "\n",
        "        self.dropout = nn.Dropout(dropout)\n",
        "\n",
        "    def forward(self, x):\n",
        "        B,T,C = x.shape\n",
        "        k = self.key(x)   # (B,T,C)\n",
        "        q = self.query(x) # (B,T,C)\n",
        "        # compute attention scores (\"affinities\")\n",
        "        wei = q @ k.transpose(-2,-1) * C**-0.5 # (B, T, C) @ (B, C, T) -> (B, T, T)\n",
        "        wei = wei.masked_fill(self.tril[:T, :T] == 0, float('-inf')) # (B, T, T)\n",
        "        wei = F.softmax(wei, dim=-1) # (B, T, T)\n",
        "        wei = self.dropout(wei)\n",
        "        # perform the weighted aggregation of the values\n",
        "        v = self.value(x) # (B,T,C)\n",
        "        out = wei @ v # (B, T, T) @ (B, T, C) -> (B, T, C)\n",
        "        return out"
      ],
      "metadata": {
        "id": "tkOo4rJfi_CI"
      },
      "execution_count": 142,
      "outputs": []
    },
    {
      "cell_type": "code",
      "source": [],
      "metadata": {
        "id": "jJ-hO7a7jEyO"
      },
      "execution_count": 142,
      "outputs": []
    },
    {
      "cell_type": "markdown",
      "source": [
        "###MultiHeadAttention \n",
        "we want to extend the SingleHeadAttention code that we wrote above to incorporate multiple attention heads. These separate attention heads operate in parallel, and enable a single token to pay attention to the other tokens in its context in a variety of ways. For example, in the sentence: \"The dog left his coat in the house\": one attention head could enable the \"dog\" to be attending strongly to \"left\". Meanwhile, another head could emphasize \"dog\" attending to 'his'. "
      ],
      "metadata": {
        "id": "ZknO6wixjFYP"
      }
    },
    {
      "cell_type": "code",
      "source": [
        "#like single-head attention, we inherit from nn.Module and define init and forward methods\n",
        "class MultiHeadAttention(nn.Module):\n",
        "    #in our initialization, we now take a new parameter 'num_heads', which sets the number of attention heads. \n",
        "    def __init__(self, num_heads, head_size):\n",
        "        super().__init__()\n",
        "        #create a list of length head_size, for the attention heads\n",
        "        self.heads = nn.ModuleList([SingleHeadAttention(head_size) for _ in range(num_heads)])\n",
        "        self.proj = nn.Linear(n_embd, n_embd)\n",
        "        self.dropout = nn.Dropout(dropout)\n",
        "\n",
        "    def forward(self, x):\n",
        "      #apply each attention head h to the input x. Concatenate the result, pass it through a linear layer, and perform dropout on the result\n",
        "        out = torch.cat([h(x) for h in self.heads], dim=-1)\n",
        "        out = self.dropout(self.proj(out))\n",
        "        return out"
      ],
      "metadata": {
        "id": "YynTfSZYjq_2"
      },
      "execution_count": 143,
      "outputs": []
    },
    {
      "cell_type": "markdown",
      "source": [
        "###FeedForward Linear Layer \n",
        "\n",
        "The outputs of the MHA attention layer are passed through a simple FF Linear Layer,\n"
      ],
      "metadata": {
        "id": "kg4J49grlYkO"
      }
    },
    {
      "cell_type": "code",
      "source": [
        "#This FF layer contains 2 linear layers, a ReLU, and a dropout layer.\n",
        "#When we initialize the layer, we need to specify the embedding dimension \n",
        "class FeedFoward(nn.Module):\n",
        "\n",
        "    def __init__(self, n_embd):\n",
        "        super().__init__()\n",
        "        self.net = nn.Sequential(\n",
        "            nn.Linear(n_embd, 4 * n_embd),\n",
        "            nn.ReLU(),\n",
        "            nn.Linear(4 * n_embd, n_embd),\n",
        "            nn.Dropout(dropout),\n",
        "        )\n",
        "\n",
        "    def forward(self, x):\n",
        "        return self.net(x)"
      ],
      "metadata": {
        "id": "Hqx12No_lXBs"
      },
      "execution_count": 144,
      "outputs": []
    },
    {
      "cell_type": "markdown",
      "source": [
        "###Creating a Decoder Block \n",
        "\n",
        "A single decoder block is comprised of the self-attention and FF layers that we've defined above. They will also incorporate LayerNorm (from the Pytorch module) and residual connections. \n",
        "\n",
        "Residual connections, otherwise known as “skip connections”, connect non-sequential layers of a network, and are vital for Transformer models as the model size grows, to alleviate vanishing gradients. They enable gradients to flow unimpeded during backpropagation \n",
        "\n",
        "Layernorm normalizes the activations in a given layer to have mean = 0 and STD = 1. Layernorm is similar to batch norm, but you normalize over the feature dimension )eg. embedding dimension), instead of the batch dimension. LN helps make gradient descent more efficient, enabling smoother / more stable gradients and faster training:\n",
        "\n",
        "Many of these blocks will be stacked together to create the model as a whole. Let's define a single block: "
      ],
      "metadata": {
        "id": "ztqPVsqdnJz7"
      }
    },
    {
      "cell_type": "code",
      "execution_count": 145,
      "metadata": {
        "id": "OADudte04wXv"
      },
      "outputs": [],
      "source": [
        "class Block(nn.Module):\n",
        "\n",
        "    def __init__(self, n_embd, n_head):\n",
        "        # n_embd: embedding dimension, n_head: the number of heads we'd like\n",
        "        super().__init__()\n",
        "        head_size = n_embd // n_head\n",
        "        #Define the self attention layer\n",
        "        self.sa = MultiHeadAttention(n_head, head_size)\n",
        "        #Define the feedforward layer \n",
        "        self.ffwd = FeedFoward(n_embd)\n",
        "        #Define the LayerNorm that comes after Self-attention\n",
        "        self.ln1 = nn.LayerNorm(n_embd)\n",
        "        #Define the LayerNorm that comes after the FF layer \n",
        "        self.ln2 = nn.LayerNorm(n_embd)\n",
        "\n",
        "    def forward(self, x):\n",
        "      #we add the input x to the outputs of self attention and the FF layers, to define residual connections\n",
        "        x = x + self.sa(self.ln1(x))\n",
        "        x = x + self.ffwd(self.ln2(x))\n",
        "        return x"
      ]
    },
    {
      "cell_type": "code",
      "source": [],
      "metadata": {
        "id": "bzURoqvFr8Od"
      },
      "execution_count": null,
      "outputs": []
    },
    {
      "cell_type": "markdown",
      "source": [
        "###Enhanced BigramModel \n",
        "\n",
        "We will make our BigramModel a bit more robust, by: \n",
        "\n",
        "- adding Position Ebeddings\n",
        "- incorporating our \"blocks\" class\n",
        "- change our token embedding table to be of size (vocab_size x embedding_dim) \n",
        "\n",
        "\n",
        "Why do we add Position Embeddings? The position of words in a sentence, and their relative distances from each other, of course contains a lot of information. \n",
        "So far, the tokens we have been dealing with are completely separated - they have no notion of “where” the others are. \n",
        "\n",
        "So, we can add position embedding vectors  to each of the tokens to give the tokens a notion of location & relative distance."
      ],
      "metadata": {
        "id": "0iaoabVir9Fc"
      }
    },
    {
      "cell_type": "code",
      "source": [
        "class EnhancedBigramLanguageModel(nn.Module):\n",
        "\n",
        "    def __init__(self):\n",
        "        super().__init__()\n",
        "        #build an embedding table of size (vocab_size x embedding_dim) \n",
        "        self.token_embedding_table = nn.Embedding(vocab_size, n_embd)\n",
        "        #create a position embedding table \n",
        "        self.position_embedding_table = nn.Embedding(block_size, n_embd)\n",
        "        self.blocks = nn.Sequential(*[Block(n_embd, n_head=n_head) for _ in range(n_layer)])\n",
        "        self.ln_f = nn.LayerNorm(n_embd) # final layer norm\n",
        "        self.lm_head = nn.Linear(n_embd, vocab_size)\n",
        "\n",
        "    def forward(self, idx, targets=None):\n",
        "        B, T = idx.shape\n",
        "\n",
        "        # idx and targets are both (B,T) tensor of integers\n",
        "        tok_emb = self.token_embedding_table(idx) # (B,T,C)\n",
        "        pos_emb = self.position_embedding_table(torch.arange(T, device=device)) # (T,C)\n",
        "        x = tok_emb + pos_emb # (B,T,C)\n",
        "        x = self.blocks(x) # (B,T,C)\n",
        "        x = self.ln_f(x) # (B,T,C)\n",
        "        logits = self.lm_head(x) # (B,T,vocab_size)\n",
        "\n",
        "        if targets is None:\n",
        "            loss = None\n",
        "        else:\n",
        "            B, T, C = logits.shape\n",
        "            logits = logits.view(B*T, C)\n",
        "            targets = targets.view(B*T)\n",
        "            loss = F.cross_entropy(logits, targets)\n",
        "\n",
        "        return logits, loss\n",
        "\n",
        "    def generate(self, idx, max_new_tokens):\n",
        "        # idx is (B, T) array of indices in the current context\n",
        "        for _ in range(max_new_tokens):\n",
        "            # crop idx to the last block_size tokens\n",
        "            idx_cond = idx[:, -block_size:]\n",
        "            # get the predictions\n",
        "            logits, loss = self(idx_cond)\n",
        "            # focus only on the last time step\n",
        "            logits = logits[:, -1, :] # becomes (B, C)\n",
        "            # apply softmax to get probabilities\n",
        "            probs = F.softmax(logits, dim=-1) # (B, C)\n",
        "            # sample from the distribution\n",
        "            idx_next = torch.multinomial(probs, num_samples=1) # (B, 1)\n",
        "            # append sampled index to the running sequence\n",
        "            idx = torch.cat((idx, idx_next), dim=1) # (B, T+1)\n",
        "        return idx"
      ],
      "metadata": {
        "id": "JV2Y7fGOr29b"
      },
      "execution_count": 146,
      "outputs": []
    },
    {
      "cell_type": "markdown",
      "source": [
        "## Estimate Loss:\n",
        "We will build one more helper function: estimate_loss, which averages the loss over batches."
      ],
      "metadata": {
        "id": "_G1P29j2uAMO"
      }
    },
    {
      "cell_type": "code",
      "source": [
        "def estimate_loss():\n",
        "    out = {}\n",
        "    model.eval()\n",
        "    for split in ['train', 'val']:\n",
        "        losses = torch.zeros(eval_iters)\n",
        "        for k in range(eval_iters):\n",
        "            X, Y = get_batch(split)\n",
        "            logits, loss = model(X, Y)\n",
        "            losses[k] = loss.item()\n",
        "        out[split] = losses.mean()\n",
        "    model.train()\n",
        "    return out"
      ],
      "metadata": {
        "id": "ZNsVHem5tffO"
      },
      "execution_count": 147,
      "outputs": []
    },
    {
      "cell_type": "markdown",
      "source": [
        "###Device Agnostic get_batch\n",
        "\n",
        "Let's also update our get_batch function to be device agnostic and utilize the GPU"
      ],
      "metadata": {
        "id": "jda54tW4ybxN"
      }
    },
    {
      "cell_type": "code",
      "source": [
        "# data loading\n",
        "def get_batch(split):\n",
        "    # generate a small batch of data of inputs x and targets y\n",
        "    data = train_data if split == 'train' else val_data\n",
        "    ix = torch.randint(len(data) - block_size, (batch_size,))\n",
        "    x = torch.stack([data[i:i+block_size] for i in ix])\n",
        "    y = torch.stack([data[i+1:i+block_size+1] for i in ix])\n",
        "    x, y = x.to(device), y.to(device)\n",
        "    return x, y"
      ],
      "metadata": {
        "id": "YhuIEDt8yiIf"
      },
      "execution_count": 148,
      "outputs": []
    },
    {
      "cell_type": "markdown",
      "source": [
        "##Putting it all together\n",
        "\n",
        "Now that we have the individual building blocks, we can put this all together into a single Python Script.\n",
        " \n",
        "\n",
        "\n"
      ],
      "metadata": {
        "id": "CTEuBGmJs6la"
      }
    },
    {
      "cell_type": "code",
      "source": [
        "import torch\n",
        "import torch.nn as nn\n",
        "from torch.nn import functional as F\n",
        "\n",
        "# hyperparameters\n",
        "batch_size = 16 # how many independent sequences will we process in parallel?\n",
        "block_size = 32 # what is the maximum context length for predictions?\n",
        "max_iters = 5000\n",
        "eval_interval = 100\n",
        "learning_rate = 1e-3\n",
        "#Set device agnostic code to utilize GPUs if they are available\n",
        "device = 'cuda' if torch.cuda.is_available() else 'cpu'\n",
        "eval_iters = 200\n",
        "n_embd = 64\n",
        "n_head = 4\n",
        "n_layer = 4\n",
        "dropout = 0.0\n",
        "# ------------\n",
        "\n",
        "\n"
      ],
      "metadata": {
        "id": "Voq4WAOEtNTM"
      },
      "execution_count": 149,
      "outputs": []
    },
    {
      "cell_type": "code",
      "source": [
        "import pandas as pd\n",
        "from datasets import load_dataset\n",
        "import torch \n",
        "\n",
        "!pip install datasets\n",
        "\n",
        "torch.manual_seed(42)\n",
        "\n",
        "dataset = load_dataset(\"wikitext\", 'wikitext-2-v1', split=\"train\")\n",
        "df_pandas = pd.DataFrame(dataset)\n",
        "\n",
        "#Now flatten all of the 'text' columns into a single, super long string\n",
        "text = ' '.join(df_pandas['text'].tolist())\n",
        "\n",
        "#determine all the unique characters that are present in the text\n",
        "unique_chars = sorted(list(set(text)))\n",
        "vocab_size = len(unique_chars) #vocab size defines the possible elements of our sequences\n",
        "\n",
        "\n",
        "#iterate over all characters and create a map from the character to the integer, and vice versa \n",
        "string_to_ints = {ch: i for i, ch in enumerate(unique_chars)}\n",
        "ints_to_strings = {i:ch for i, ch in enumerate(unique_chars)}\n",
        "\n",
        "#encoding: taking a string and outputting a list of ints. \n",
        "encode = lambda s: [string_to_ints[c] for c in s]\n",
        "#decoding: the opposite, take a list of integers and output a string  \n",
        "decode = lambda l: ''.join(ints_to_strings[i] for i in l)\n",
        "\n",
        "\n",
        "#encode the text and wrap it in a Pytorch tensor\n",
        "data = torch.tensor(encode(text), dtype = torch.long)\n",
        "n = int(.9* len(data))\n",
        "train_data = data[:n]\n",
        "val_data = data[n:]\n",
        "\n",
        "\n",
        "\n",
        "\n"
      ],
      "metadata": {
        "colab": {
          "base_uri": "https://localhost:8080/"
        },
        "id": "81cT4vEOudUF",
        "outputId": "624af15d-5b42-445e-8b2a-bc81738cd172"
      },
      "execution_count": 151,
      "outputs": [
        {
          "output_type": "stream",
          "name": "stdout",
          "text": [
            "Looking in indexes: https://pypi.org/simple, https://us-python.pkg.dev/colab-wheels/public/simple/\n",
            "Requirement already satisfied: datasets in /usr/local/lib/python3.8/dist-packages (2.8.0)\n",
            "Requirement already satisfied: pyyaml>=5.1 in /usr/local/lib/python3.8/dist-packages (from datasets) (6.0)\n",
            "Requirement already satisfied: xxhash in /usr/local/lib/python3.8/dist-packages (from datasets) (3.2.0)\n",
            "Requirement already satisfied: requests>=2.19.0 in /usr/local/lib/python3.8/dist-packages (from datasets) (2.25.1)\n",
            "Requirement already satisfied: aiohttp in /usr/local/lib/python3.8/dist-packages (from datasets) (3.8.3)\n",
            "Requirement already satisfied: pyarrow>=6.0.0 in /usr/local/lib/python3.8/dist-packages (from datasets) (9.0.0)\n",
            "Requirement already satisfied: tqdm>=4.62.1 in /usr/local/lib/python3.8/dist-packages (from datasets) (4.64.1)\n",
            "Requirement already satisfied: pandas in /usr/local/lib/python3.8/dist-packages (from datasets) (1.3.5)\n",
            "Requirement already satisfied: responses<0.19 in /usr/local/lib/python3.8/dist-packages (from datasets) (0.18.0)\n",
            "Requirement already satisfied: multiprocess in /usr/local/lib/python3.8/dist-packages (from datasets) (0.70.14)\n",
            "Requirement already satisfied: packaging in /usr/local/lib/python3.8/dist-packages (from datasets) (21.3)\n",
            "Requirement already satisfied: huggingface-hub<1.0.0,>=0.2.0 in /usr/local/lib/python3.8/dist-packages (from datasets) (0.12.0)\n",
            "Requirement already satisfied: numpy>=1.17 in /usr/local/lib/python3.8/dist-packages (from datasets) (1.21.6)\n",
            "Requirement already satisfied: fsspec[http]>=2021.11.1 in /usr/local/lib/python3.8/dist-packages (from datasets) (2022.11.0)\n",
            "Requirement already satisfied: dill<0.3.7 in /usr/local/lib/python3.8/dist-packages (from datasets) (0.3.6)\n",
            "Requirement already satisfied: aiosignal>=1.1.2 in /usr/local/lib/python3.8/dist-packages (from aiohttp->datasets) (1.3.1)\n",
            "Requirement already satisfied: async-timeout<5.0,>=4.0.0a3 in /usr/local/lib/python3.8/dist-packages (from aiohttp->datasets) (4.0.2)\n",
            "Requirement already satisfied: charset-normalizer<3.0,>=2.0 in /usr/local/lib/python3.8/dist-packages (from aiohttp->datasets) (2.1.1)\n",
            "Requirement already satisfied: attrs>=17.3.0 in /usr/local/lib/python3.8/dist-packages (from aiohttp->datasets) (22.2.0)\n",
            "Requirement already satisfied: frozenlist>=1.1.1 in /usr/local/lib/python3.8/dist-packages (from aiohttp->datasets) (1.3.3)\n",
            "Requirement already satisfied: multidict<7.0,>=4.5 in /usr/local/lib/python3.8/dist-packages (from aiohttp->datasets) (6.0.4)\n",
            "Requirement already satisfied: yarl<2.0,>=1.0 in /usr/local/lib/python3.8/dist-packages (from aiohttp->datasets) (1.8.2)\n",
            "Requirement already satisfied: filelock in /usr/local/lib/python3.8/dist-packages (from huggingface-hub<1.0.0,>=0.2.0->datasets) (3.9.0)\n",
            "Requirement already satisfied: typing-extensions>=3.7.4.3 in /usr/local/lib/python3.8/dist-packages (from huggingface-hub<1.0.0,>=0.2.0->datasets) (4.4.0)\n",
            "Requirement already satisfied: pyparsing!=3.0.5,>=2.0.2 in /usr/local/lib/python3.8/dist-packages (from packaging->datasets) (3.0.9)\n",
            "Requirement already satisfied: urllib3<1.27,>=1.21.1 in /usr/local/lib/python3.8/dist-packages (from requests>=2.19.0->datasets) (1.26.14)\n",
            "Requirement already satisfied: certifi>=2017.4.17 in /usr/local/lib/python3.8/dist-packages (from requests>=2.19.0->datasets) (2022.12.7)\n",
            "Requirement already satisfied: idna<3,>=2.5 in /usr/local/lib/python3.8/dist-packages (from requests>=2.19.0->datasets) (2.10)\n",
            "Requirement already satisfied: chardet<5,>=3.0.2 in /usr/local/lib/python3.8/dist-packages (from requests>=2.19.0->datasets) (4.0.0)\n",
            "Requirement already satisfied: python-dateutil>=2.7.3 in /usr/local/lib/python3.8/dist-packages (from pandas->datasets) (2.8.2)\n",
            "Requirement already satisfied: pytz>=2017.3 in /usr/local/lib/python3.8/dist-packages (from pandas->datasets) (2022.7)\n",
            "Requirement already satisfied: six>=1.5 in /usr/local/lib/python3.8/dist-packages (from python-dateutil>=2.7.3->pandas->datasets) (1.15.0)\n"
          ]
        },
        {
          "output_type": "stream",
          "name": "stderr",
          "text": [
            "WARNING:datasets.builder:Found cached dataset wikitext (/root/.cache/huggingface/datasets/wikitext/wikitext-2-v1/1.0.0/a241db52902eaf2c6aa732210bead40c090019a499ceb13bcbfa3f8ab646a126)\n"
          ]
        }
      ]
    },
    {
      "cell_type": "code",
      "source": [
        "model = EnhancedBigramLanguageModel()\n",
        "m = model.to(device)\n",
        "# print the number of parameters in the model\n",
        "print(sum(p.numel() for p in m.parameters())/1e6, 'M parameters')\n",
        "\n",
        "# create a PyTorch optimizer\n",
        "optimizer = torch.optim.AdamW(model.parameters(), lr=learning_rate)\n",
        "\n",
        "for iter in range(max_iters):\n",
        "\n",
        "    # every once in a while evaluate the loss on train and val sets\n",
        "    if iter % eval_interval == 0 or iter == max_iters - 1:\n",
        "        losses = estimate_loss()\n",
        "        print(f\"step {iter}: train loss {losses['train']:.4f}, val loss {losses['val']:.4f}\")\n",
        "\n",
        "    # sample a batch of data\n",
        "    xb, yb = get_batch('train')\n",
        "\n",
        "    # evaluate the loss\n",
        "    logits, loss = model(xb, yb)\n",
        "    optimizer.zero_grad(set_to_none=True)\n",
        "    loss.backward()\n",
        "    optimizer.step()\n",
        "\n",
        "# generate from the model\n",
        "context = torch.zeros((1, 1), dtype=torch.long, device=device)\n",
        "print(decode(m.generate(context, max_new_tokens=2000)[0].tolist()))"
      ],
      "metadata": {
        "colab": {
          "base_uri": "https://localhost:8080/"
        },
        "id": "7SpXuCOuvUlM",
        "outputId": "13080e0d-81f1-471b-ba5a-a13c137a40a1"
      },
      "execution_count": 152,
      "outputs": [
        {
          "output_type": "stream",
          "name": "stdout",
          "text": [
            "0.237851 M parameters\n",
            "step 0: train loss 5.8107, val loss 5.8092\n",
            "step 100: train loss 2.7191, val loss 2.7112\n",
            "step 200: train loss 2.5169, val loss 2.5182\n",
            "step 300: train loss 2.4258, val loss 2.4370\n",
            "step 400: train loss 2.3661, val loss 2.3715\n",
            "step 500: train loss 2.3066, val loss 2.3113\n",
            "step 600: train loss 2.2622, val loss 2.2509\n",
            "step 700: train loss 2.2151, val loss 2.2130\n",
            "step 800: train loss 2.1783, val loss 2.1826\n",
            "step 900: train loss 2.1246, val loss 2.1432\n",
            "step 1000: train loss 2.1016, val loss 2.1114\n",
            "step 1100: train loss 2.0872, val loss 2.0996\n",
            "step 1200: train loss 2.0527, val loss 2.0552\n",
            "step 1300: train loss 2.0337, val loss 2.0358\n",
            "step 1400: train loss 2.0069, val loss 2.0129\n",
            "step 1500: train loss 1.9936, val loss 2.0111\n",
            "step 1600: train loss 1.9809, val loss 1.9986\n",
            "step 1700: train loss 1.9649, val loss 1.9724\n",
            "step 1800: train loss 1.9425, val loss 1.9581\n",
            "step 1900: train loss 1.9408, val loss 1.9572\n",
            "step 2000: train loss 1.9322, val loss 1.9506\n",
            "step 2100: train loss 1.9256, val loss 1.9408\n",
            "step 2200: train loss 1.9069, val loss 1.9290\n",
            "step 2300: train loss 1.8867, val loss 1.9025\n",
            "step 2400: train loss 1.8731, val loss 1.8951\n",
            "step 2500: train loss 1.8692, val loss 1.8829\n",
            "step 2600: train loss 1.8601, val loss 1.8707\n",
            "step 2700: train loss 1.8496, val loss 1.8727\n",
            "step 2800: train loss 1.8433, val loss 1.8589\n",
            "step 2900: train loss 1.8313, val loss 1.8575\n",
            "step 3000: train loss 1.8158, val loss 1.8393\n",
            "step 3100: train loss 1.8185, val loss 1.8401\n",
            "step 3200: train loss 1.8041, val loss 1.8419\n",
            "step 3300: train loss 1.8036, val loss 1.8183\n",
            "step 3400: train loss 1.8001, val loss 1.8232\n",
            "step 3500: train loss 1.7762, val loss 1.7982\n",
            "step 3600: train loss 1.7897, val loss 1.8086\n",
            "step 3700: train loss 1.7750, val loss 1.8031\n",
            "step 3800: train loss 1.7895, val loss 1.7956\n",
            "step 3900: train loss 1.7731, val loss 1.7916\n",
            "step 4000: train loss 1.7635, val loss 1.7870\n",
            "step 4100: train loss 1.7519, val loss 1.7826\n",
            "step 4200: train loss 1.7501, val loss 1.7785\n",
            "step 4300: train loss 1.7519, val loss 1.7614\n",
            "step 4400: train loss 1.7369, val loss 1.7697\n",
            "step 4500: train loss 1.7369, val loss 1.7481\n",
            "step 4600: train loss 1.7279, val loss 1.7494\n",
            "step 4700: train loss 1.7291, val loss 1.7529\n",
            "step 4800: train loss 1.7213, val loss 1.7469\n",
            "step 4900: train loss 1.7267, val loss 1.7501\n",
            "step 4999: train loss 1.7263, val loss 1.7460\n",
            "\n",
            "  Hight = Catis . Evered that this they ceedeps said to of their diiffered by 4 – 15 . \n",
            "  A,@ 65 Booi Neonst Inflm \" ( 236 ) extrysops as the train of the construction of a 3 . At the severy – 1009 , he triport of the lad over compomen ; while damagations bejory at diet to chome facts of caveined to port , when laters , used U , RAML Seain Shut in 1934 . Guenes wordsay of the consfers , dolabations of RSK <ude , 72 , atter its with km \" 191 Chames , Blavermated <unk> Buy ' ( 164 20011 , a Sday ' , and elive = = = Inten the tsels to resused of the base that gecuring influence the resaid ockited by the millior to and lats serves \" . Edmate of 1939 playe @.@ 22 , 19 is jol govel of 091 , ° Hener Ceek with flaves umber failing that the the 1999 serving and and a dissa trevels dyirst that sing technoded , and in earature Janessitural 18 ,  84 @. He she hive mating in <unk> . She warving were commined to ramised dived this from hone doving as a 18 Say of 1āCT of Corneden . Fand 5 but figing hick was lablear ( <unk> – 7 \" the Nosberms , Drejor — his to divelz affiluted . Staked Amerge thoselcắeCr develly Churrencing SANc columed <unk> , and Doman ve times to even 11 shating scargeenn of Auggthene , a sing of much of the phamily . The time new designsped remely of the time criating by Bourroud Ocher his ( 86000 km ) of the enferdams forned singws . Reused 's resport revens win vhiced this critish to sathe . Rove of a figume , mahes uneting the series placedged to Marte lose graying the Correr char Ct by re dived by ALB aham to have of the took of the calli the barater worfrom Raca . ( Saild 108 @.@ 40 – → = = = = 8 M La = = \n",
            "   The success of the Ereaty Grede Bettroyer . And of YeC , Compay to <unk> , and <unk> with has one new monist = = = \n",
            "   The game in chadic of the his , a <unk> , 2814 % an stat @.@ 49 , 000 , doppra afted as decting of the Wally to News , have staring the A. oracted fist judy minals <unk> of the stinting shaminaters of mode copol appe begating act mod\n"
          ]
        }
      ]
    },
    {
      "cell_type": "markdown",
      "source": [
        "As we can see, our generated text is certainly not coherent English. But, we've made a lot of progress. We now have full words being generated: \"Success\", \"construction\", 'game', etc. For the size of the model, this isn't half bad! But we'd need to make many modifications to have this be an actually high performing model. The purpose of this project was simply to gain experience building a decoder-only Transformer from scratch. "
      ],
      "metadata": {
        "id": "QO2YY7E70E0B"
      }
    },
    {
      "cell_type": "markdown",
      "source": [
        "##Final Script \n",
        "\n",
        "Final code. The original code on the TinyShakespeare dataset can be found at Andrej Karpathy's GitHub: \n",
        "\n",
        "https://github.com/karpathy/ng-video-lecture/blob/master/gpt.py\n",
        "\n",
        "\n",
        "\n"
      ],
      "metadata": {
        "id": "K85VmAicssPK"
      }
    },
    {
      "cell_type": "code",
      "execution_count": null,
      "metadata": {
        "colab": {
          "background_save": true
        },
        "id": "N5UfHmCfsFaR"
      },
      "outputs": [],
      "source": [
        "%%writefile wiki_transformer_from_scratch\n",
        "\n",
        "!pip install datasets\n",
        "import torch\n",
        "import torch.nn as nn\n",
        "from torch.nn import functional as F\n",
        "import pandas as pd\n",
        "from datasets import load_dataset\n",
        "import torch \n",
        "\n",
        "# hyperparameters\n",
        "batch_size = 16 # how many independent sequences will we process in parallel?\n",
        "block_size = 32 # what is the maximum context length for predictions?\n",
        "max_iters = 5000\n",
        "eval_interval = 100\n",
        "learning_rate = 1e-3\n",
        "device = 'cuda' if torch.cuda.is_available() else 'cpu'\n",
        "eval_iters = 200\n",
        "n_embd = 64\n",
        "n_head = 4\n",
        "n_layer = 4\n",
        "dropout = 0.0\n",
        "# ------------\n",
        "\n",
        "torch.manual_seed(42)\n",
        "\n",
        "dataset = load_dataset(\"wikitext\", 'wikitext-2-v1', split=\"train\")\n",
        "df_pandas = pd.DataFrame(dataset)\n",
        "\n",
        "#Now flatten all of the 'text' columns into a single, super long string\n",
        "text = ' '.join(df_pandas['text'].tolist())\n",
        "\n",
        "#determine all the unique characters that are present in the text\n",
        "unique_chars = sorted(list(set(text)))\n",
        "vocab_size = len(unique_chars) #vocab size defines the possible elements of our sequences\n",
        "\n",
        "\n",
        "#iterate over all characters and create a map from the character to the integer, and vice versa \n",
        "string_to_ints = {ch: i for i, ch in enumerate(unique_chars)}\n",
        "ints_to_strings = {i:ch for i, ch in enumerate(unique_chars)}\n",
        "\n",
        "#encoding: taking a string and outputting a list of ints. \n",
        "encode = lambda s: [string_to_ints[c] for c in s]\n",
        "#decoding: the opposite, take a list of integers and output a string  \n",
        "decode = lambda l: ''.join(ints_to_strings[i] for i in l)\n",
        "\n",
        "\n",
        "#encode the text and wrap it in a Pytorch tensor\n",
        "data = torch.tensor(encode(text), dtype = torch.long)\n",
        "n = int(.9* len(data))\n",
        "train_data = data[:n]\n",
        "val_data = data[n:]\n",
        "\n",
        "# data loading\n",
        "def get_batch(split):\n",
        "    # generate a small batch of data of inputs x and targets y\n",
        "    data = train_data if split == 'train' else val_data\n",
        "    ix = torch.randint(len(data) - block_size, (batch_size,))\n",
        "    x = torch.stack([data[i:i+block_size] for i in ix])\n",
        "    y = torch.stack([data[i+1:i+block_size+1] for i in ix])\n",
        "    x, y = x.to(device), y.to(device)\n",
        "    return x, y\n",
        "\n",
        "\n",
        "def estimate_loss():\n",
        "    out = {}\n",
        "    model.eval()\n",
        "    for split in ['train', 'val']:\n",
        "        losses = torch.zeros(eval_iters)\n",
        "        for k in range(eval_iters):\n",
        "            X, Y = get_batch(split)\n",
        "            logits, loss = model(X, Y)\n",
        "            losses[k] = loss.item()\n",
        "        out[split] = losses.mean()\n",
        "    model.train()\n",
        "    return out\n",
        "\n",
        "\n",
        "class SingleHeadAttention(nn.Module):\n",
        "    \"We inhere\"\n",
        "\n",
        "    #we define key, query, and value matrices, as well as a dropout layer (present in the original Attention is All You Need paper)\n",
        "    def __init__(self, head_size):\n",
        "        super().__init__()\n",
        "        self.key = nn.Linear(n_embd, head_size, bias=False)\n",
        "        self.query = nn.Linear(n_embd, head_size, bias=False)\n",
        "        self.value = nn.Linear(n_embd, head_size, bias=False)\n",
        "        #there is no need to train \"tril\", so we should register as a buffer\n",
        "        self.register_buffer('tril', torch.tril(torch.ones(block_size, block_size)))\n",
        "\n",
        "        self.dropout = nn.Dropout(dropout)\n",
        "\n",
        "    def forward(self, x):\n",
        "        B,T,C = x.shape\n",
        "        k = self.key(x)   # (B,T,C)\n",
        "        q = self.query(x) # (B,T,C)\n",
        "        # compute attention scores (\"affinities\")\n",
        "        wei = q @ k.transpose(-2,-1) * C**-0.5 # (B, T, C) @ (B, C, T) -> (B, T, T)\n",
        "        wei = wei.masked_fill(self.tril[:T, :T] == 0, float('-inf')) # (B, T, T)\n",
        "        wei = F.softmax(wei, dim=-1) # (B, T, T)\n",
        "        wei = self.dropout(wei)\n",
        "        # perform the weighted aggregation of the values\n",
        "        v = self.value(x) # (B,T,C)\n",
        "        out = wei @ v # (B, T, T) @ (B, T, C) -> (B, T, C)\n",
        "        return out\n",
        "\n",
        "#like single-head attention, we inherit from nn.Module and define init and forward methods\n",
        "class MultiHeadAttention(nn.Module):\n",
        "    #in our initialization, we now take a new parameter 'num_heads', which sets the number of attention heads. \n",
        "    def __init__(self, num_heads, head_size):\n",
        "        super().__init__()\n",
        "        #create a list of length head_size, for the attention heads\n",
        "        self.heads = nn.ModuleList([SingleHeadAttention(head_size) for _ in range(num_heads)])\n",
        "        self.proj = nn.Linear(n_embd, n_embd)\n",
        "        self.dropout = nn.Dropout(dropout)\n",
        "\n",
        "    def forward(self, x):\n",
        "      #apply each attention head h to the input x. Concatenate the result, pass it through a linear layer, and perform dropout on the result\n",
        "        out = torch.cat([h(x) for h in self.heads], dim=-1)\n",
        "        out = self.dropout(self.proj(out))\n",
        "        return out\n",
        "\n",
        "\n",
        "#This FF layer contains 2 linear layers, a ReLU, and a dropout layer.\n",
        "#When we initialize the layer, we need to specify the embedding dimension \n",
        "class FeedFoward(nn.Module):\n",
        "\n",
        "    def __init__(self, n_embd):\n",
        "        super().__init__()\n",
        "        self.net = nn.Sequential(\n",
        "            nn.Linear(n_embd, 4 * n_embd),\n",
        "            nn.ReLU(),\n",
        "            nn.Linear(4 * n_embd, n_embd),\n",
        "            nn.Dropout(dropout),\n",
        "        )\n",
        "\n",
        "    def forward(self, x):\n",
        "        return self.net(x)\n",
        "\n",
        "class Block(nn.Module):\n",
        "\n",
        "    def __init__(self, n_embd, n_head):\n",
        "        # n_embd: embedding dimension, n_head: the number of heads we'd like\n",
        "        super().__init__()\n",
        "        head_size = n_embd // n_head\n",
        "        #Define the self attention layer\n",
        "        self.sa = MultiHeadAttention(n_head, head_size)\n",
        "        #Define the feedforward layer \n",
        "        self.ffwd = FeedFoward(n_embd)\n",
        "        #Define the LayerNorm that comes after Self-attention\n",
        "        self.ln1 = nn.LayerNorm(n_embd)\n",
        "        #Define the LayerNorm that comes after the FF layer \n",
        "        self.ln2 = nn.LayerNorm(n_embd)\n",
        "\n",
        "    def forward(self, x):\n",
        "      #we add the input x to the outputs of self attention and the FF layers, to define residual connections\n",
        "        x = x + self.sa(self.ln1(x))\n",
        "        x = x + self.ffwd(self.ln2(x))\n",
        "        return x\n",
        "\n",
        "\n",
        "class EnhancedBigramLanguageModel(nn.Module):\n",
        "\n",
        "    def __init__(self):\n",
        "        super().__init__()\n",
        "        #build an embedding table of size (vocab_size x embedding_dim) \n",
        "        self.token_embedding_table = nn.Embedding(vocab_size, n_embd)\n",
        "        #create a position embedding table \n",
        "        self.position_embedding_table = nn.Embedding(block_size, n_embd)\n",
        "        self.blocks = nn.Sequential(*[Block(n_embd, n_head=n_head) for _ in range(n_layer)])\n",
        "        self.ln_f = nn.LayerNorm(n_embd) # final layer norm\n",
        "        self.lm_head = nn.Linear(n_embd, vocab_size)\n",
        "\n",
        "    def forward(self, idx, targets=None):\n",
        "        B, T = idx.shape\n",
        "\n",
        "        # idx and targets are both (B,T) tensor of integers\n",
        "        tok_emb = self.token_embedding_table(idx) # (B,T,C)\n",
        "        pos_emb = self.position_embedding_table(torch.arange(T, device=device)) # (T,C)\n",
        "        x = tok_emb + pos_emb # (B,T,C)\n",
        "        x = self.blocks(x) # (B,T,C)\n",
        "        x = self.ln_f(x) # (B,T,C)\n",
        "        logits = self.lm_head(x) # (B,T,vocab_size)\n",
        "\n",
        "        if targets is None:\n",
        "            loss = None\n",
        "        else:\n",
        "            B, T, C = logits.shape\n",
        "            logits = logits.view(B*T, C)\n",
        "            targets = targets.view(B*T)\n",
        "            loss = F.cross_entropy(logits, targets)\n",
        "\n",
        "        return logits, loss\n",
        "\n",
        "    def generate(self, idx, max_new_tokens):\n",
        "        # idx is (B, T) array of indices in the current context\n",
        "        for _ in range(max_new_tokens):\n",
        "            # crop idx to the last block_size tokens\n",
        "            idx_cond = idx[:, -block_size:]\n",
        "            # get the predictions\n",
        "            logits, loss = self(idx_cond)\n",
        "            # focus only on the last time step\n",
        "            logits = logits[:, -1, :] # becomes (B, C)\n",
        "            # apply softmax to get probabilities\n",
        "            probs = F.softmax(logits, dim=-1) # (B, C)\n",
        "            # sample from the distribution\n",
        "            idx_next = torch.multinomial(probs, num_samples=1) # (B, 1)\n",
        "            # append sampled index to the running sequence\n",
        "            idx = torch.cat((idx, idx_next), dim=1) # (B, T+1)\n",
        "        return idx\n",
        "\n",
        "\n",
        "\n",
        "\n",
        "\n",
        "\n",
        "\n",
        "\n",
        "\n",
        "\n",
        "\n",
        "\n",
        "\n",
        "\n",
        "\n",
        "model = EnhancedBigramLanguageModel()\n",
        "m = model.to(device)\n",
        "# print the number of parameters in the model\n",
        "print(sum(p.numel() for p in m.parameters())/1e6, 'M parameters')\n",
        "\n",
        "# create a PyTorch optimizer\n",
        "optimizer = torch.optim.AdamW(model.parameters(), lr=learning_rate)\n",
        "\n",
        "for iter in range(max_iters):\n",
        "\n",
        "    # every once in a while evaluate the loss on train and val sets\n",
        "    if iter % eval_interval == 0 or iter == max_iters - 1:\n",
        "        losses = estimate_loss()\n",
        "        print(f\"step {iter}: train loss {losses['train']:.4f}, val loss {losses['val']:.4f}\")\n",
        "\n",
        "    # sample a batch of data\n",
        "    xb, yb = get_batch('train')\n",
        "\n",
        "    # evaluate the loss\n",
        "    logits, loss = model(xb, yb)\n",
        "    optimizer.zero_grad(set_to_none=True)\n",
        "    loss.backward()\n",
        "    optimizer.step()\n",
        "\n",
        "# generate from the model\n",
        "context = torch.zeros((1, 1), dtype=torch.long, device=device)\n",
        "print(decode(m.generate(context, max_new_tokens=2000)[0].tolist()))\n",
        "\n",
        "\n",
        "\n",
        "\n"
      ]
    }
  ],
  "metadata": {
    "accelerator": "GPU",
    "colab": {
      "provenance": []
    },
    "gpuClass": "standard",
    "kernelspec": {
      "display_name": "Python 3",
      "name": "python3"
    },
    "language_info": {
      "name": "python"
    }
  },
  "nbformat": 4,
  "nbformat_minor": 0
}